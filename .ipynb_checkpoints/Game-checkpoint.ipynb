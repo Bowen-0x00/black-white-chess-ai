{
 "cells": [
  {
   "cell_type": "code",
   "execution_count": 42,
   "id": "88ce008d",
   "metadata": {},
   "outputs": [],
   "source": [
    "import pygame\n",
    "import sys\n",
    "from enum import Enum\n",
    "import numpy as np"
   ]
  },
  {
   "cell_type": "code",
   "execution_count": 33,
   "id": "4de6b0c7",
   "metadata": {},
   "outputs": [],
   "source": [
    "class ChessState(Enum):\n",
    "    INVALID = 0\n",
    "    BLACK = 1\n",
    "    WHITE = 2\n",
    "    VALID = 3"
   ]
  },
  {
   "cell_type": "code",
   "execution_count": 40,
   "id": "5b66da65",
   "metadata": {},
   "outputs": [],
   "source": [
    "black_score = 0\n",
    "white_score = 0\n",
    "chess_status = []\n",
    "for x in range(8):\n",
    "    chess_status.append([])\n",
    "    for y in range(8):\n",
    "        chess_status[x].append(ChessState.INVALID)\n",
    "chess_status[3][3] = ChessState.WHITE\n",
    "chess_status[3][4] = ChessState.BLACK\n",
    "chess_status[4][3] = ChessState.BLACK\n",
    "chess_status[4][4] = ChessState.WHITE"
   ]
  },
  {
   "cell_type": "code",
   "execution_count": 41,
   "id": "4e11caa7",
   "metadata": {},
   "outputs": [
    {
     "data": {
      "text/plain": [
       "[[<ChessState.INVALID: 0>,\n",
       "  <ChessState.INVALID: 0>,\n",
       "  <ChessState.INVALID: 0>,\n",
       "  <ChessState.INVALID: 0>,\n",
       "  <ChessState.INVALID: 0>,\n",
       "  <ChessState.INVALID: 0>,\n",
       "  <ChessState.INVALID: 0>,\n",
       "  <ChessState.INVALID: 0>],\n",
       " [<ChessState.INVALID: 0>,\n",
       "  <ChessState.INVALID: 0>,\n",
       "  <ChessState.INVALID: 0>,\n",
       "  <ChessState.INVALID: 0>,\n",
       "  <ChessState.INVALID: 0>,\n",
       "  <ChessState.INVALID: 0>,\n",
       "  <ChessState.INVALID: 0>,\n",
       "  <ChessState.INVALID: 0>],\n",
       " [<ChessState.INVALID: 0>,\n",
       "  <ChessState.INVALID: 0>,\n",
       "  <ChessState.INVALID: 0>,\n",
       "  <ChessState.INVALID: 0>,\n",
       "  <ChessState.INVALID: 0>,\n",
       "  <ChessState.INVALID: 0>,\n",
       "  <ChessState.INVALID: 0>,\n",
       "  <ChessState.INVALID: 0>],\n",
       " [<ChessState.INVALID: 0>,\n",
       "  <ChessState.INVALID: 0>,\n",
       "  <ChessState.INVALID: 0>,\n",
       "  <ChessState.WHITE: 2>,\n",
       "  <ChessState.BLACK: 1>,\n",
       "  <ChessState.INVALID: 0>,\n",
       "  <ChessState.INVALID: 0>,\n",
       "  <ChessState.INVALID: 0>],\n",
       " [<ChessState.INVALID: 0>,\n",
       "  <ChessState.INVALID: 0>,\n",
       "  <ChessState.INVALID: 0>,\n",
       "  <ChessState.BLACK: 1>,\n",
       "  <ChessState.WHITE: 2>,\n",
       "  <ChessState.INVALID: 0>,\n",
       "  <ChessState.INVALID: 0>,\n",
       "  <ChessState.INVALID: 0>],\n",
       " [<ChessState.INVALID: 0>,\n",
       "  <ChessState.INVALID: 0>,\n",
       "  <ChessState.INVALID: 0>,\n",
       "  <ChessState.INVALID: 0>,\n",
       "  <ChessState.INVALID: 0>,\n",
       "  <ChessState.INVALID: 0>,\n",
       "  <ChessState.INVALID: 0>,\n",
       "  <ChessState.INVALID: 0>],\n",
       " [<ChessState.INVALID: 0>,\n",
       "  <ChessState.INVALID: 0>,\n",
       "  <ChessState.INVALID: 0>,\n",
       "  <ChessState.INVALID: 0>,\n",
       "  <ChessState.INVALID: 0>,\n",
       "  <ChessState.INVALID: 0>,\n",
       "  <ChessState.INVALID: 0>,\n",
       "  <ChessState.INVALID: 0>],\n",
       " [<ChessState.INVALID: 0>,\n",
       "  <ChessState.INVALID: 0>,\n",
       "  <ChessState.INVALID: 0>,\n",
       "  <ChessState.INVALID: 0>,\n",
       "  <ChessState.INVALID: 0>,\n",
       "  <ChessState.INVALID: 0>,\n",
       "  <ChessState.INVALID: 0>,\n",
       "  <ChessState.INVALID: 0>]]"
      ]
     },
     "execution_count": 41,
     "metadata": {},
     "output_type": "execute_result"
    }
   ],
   "source": [
    "chess_status"
   ]
  },
  {
   "cell_type": "code",
   "execution_count": 31,
   "id": "c6b644ab",
   "metadata": {},
   "outputs": [],
   "source": [
    "def init_game():\n",
    "    pygame.init()\n",
    "    screen = pygame.display.set_mode([1024, 768])\n",
    "    board_rect = pygame.rect.Rect(234, 143, 1024, 768)\n",
    "    pygame.display.set_caption(\"Reversi\")\n",
    "    bg_img = pygame.image.load(\"s_background.png\").convert()\n",
    "    black_img = pygame.image.load(\"s_chess_black.png\").convert_alpha()\n",
    "    white_img = pygame.image.load(\"s_chess_white.png\").convert_alpha()\n",
    "    valid_img = pygame.image.load(\"s_chess_valid.png\").convert_alpha()\n",
    "    screen.blit(bg_img, (0, 0))\n",
    "#     screen.blit(white_img, (board_rect.x+3*70, board_rect.y+3*70))\n",
    "#     screen.blit(black_img, (board_rect.x+3*70, board_rect.y+4*70))\n",
    "#     screen.blit(black_img, (board_rect.x+4*70, board_rect.y+3*70))\n",
    "#     screen.blit(white_img, (board_rect.x+4*70, board_rect.y+4*70))"
   ]
  },
  {
   "cell_type": "code",
   "execution_count": 32,
   "id": "a2bd44e7",
   "metadata": {},
   "outputs": [
    {
     "ename": "NameError",
     "evalue": "name 'black_img' is not defined",
     "output_type": "error",
     "traceback": [
      "\u001b[1;31m---------------------------------------------------------------------------\u001b[0m",
      "\u001b[1;31mNameError\u001b[0m                                 Traceback (most recent call last)",
      "Cell \u001b[1;32mIn [32], line 1\u001b[0m\n\u001b[1;32m----> 1\u001b[0m chess_state_img_map \u001b[38;5;241m=\u001b[39m {ChessState\u001b[38;5;241m.\u001b[39mBLACK: \u001b[43mblack_img\u001b[49m,\n\u001b[0;32m      2\u001b[0m                       ChessState\u001b[38;5;241m.\u001b[39mWHITE: white_img,\n\u001b[0;32m      3\u001b[0m                       ChessState\u001b[38;5;241m.\u001b[39mVALID: valid_img}\n\u001b[0;32m      4\u001b[0m \u001b[38;5;28;01mdef\u001b[39;00m \u001b[38;5;21mupdate_chess_img_to_screen\u001b[39m():\n\u001b[0;32m      5\u001b[0m     \u001b[38;5;28;01mfor\u001b[39;00m x \u001b[38;5;129;01min\u001b[39;00m \u001b[38;5;28mrange\u001b[39m(\u001b[38;5;241m8\u001b[39m):\n",
      "\u001b[1;31mNameError\u001b[0m: name 'black_img' is not defined"
     ]
    }
   ],
   "source": [
    "chess_state_img_map = {ChessState.BLACK: black_img,\n",
    "                      ChessState.WHITE: white_img,\n",
    "                      ChessState.VALID: valid_img}\n",
    "def update_chess_img_to_screen():\n",
    "    for x in range(8):\n",
    "        for y in range(8):\n",
    "            if chess_status[x][y] != ChessState.INVALID:\n",
    "                screen.blit(chess_state_img_map[chess_status[x][y]], (board_rect.x+y*70, board_rect.y+x*70))"
   ]
  },
  {
   "cell_type": "code",
   "execution_count": 25,
   "id": "316b6033",
   "metadata": {},
   "outputs": [],
   "source": [
    "def run_game():\n",
    "    while True:\n",
    "        for event in pygame.event.get():\n",
    "            if event.type == pygame.QUIT:\n",
    "                pygame.quit()\n",
    "                sys.exit()\n",
    "        pygame.display.update()"
   ]
  },
  {
   "cell_type": "code",
   "execution_count": null,
   "id": "e8b8ee10",
   "metadata": {},
   "outputs": [],
   "source": []
  },
  {
   "cell_type": "code",
   "execution_count": 26,
   "id": "25ff9a84",
   "metadata": {},
   "outputs": [
    {
     "ename": "SystemExit",
     "evalue": "",
     "output_type": "error",
     "traceback": [
      "An exception has occurred, use %tb to see the full traceback.\n",
      "\u001b[1;31mSystemExit\u001b[0m\n"
     ]
    }
   ],
   "source": [
    "init_game()\n",
    "run_game()"
   ]
  },
  {
   "cell_type": "code",
   "execution_count": 44,
   "id": "776f354a",
   "metadata": {},
   "outputs": [],
   "source": [
    "a = np.array([1, 2])"
   ]
  },
  {
   "cell_type": "code",
   "execution_count": 45,
   "id": "c698971d",
   "metadata": {},
   "outputs": [
    {
     "data": {
      "text/plain": [
       "array([-1, -2])"
      ]
     },
     "execution_count": 45,
     "metadata": {},
     "output_type": "execute_result"
    }
   ],
   "source": [
    "-a"
   ]
  },
  {
   "cell_type": "code",
   "execution_count": 50,
   "id": "1cc43da4",
   "metadata": {},
   "outputs": [],
   "source": [
    "b= np.array([[1,2],[3,4]]).reshape(2 , 2)"
   ]
  },
  {
   "cell_type": "code",
   "execution_count": 66,
   "id": "1f98529b",
   "metadata": {},
   "outputs": [],
   "source": [
    "c = [0, 1]"
   ]
  },
  {
   "cell_type": "code",
   "execution_count": 84,
   "id": "11d884fe",
   "metadata": {},
   "outputs": [
    {
     "data": {
      "text/plain": [
       "2"
      ]
     },
     "execution_count": 84,
     "metadata": {},
     "output_type": "execute_result"
    }
   ],
   "source": [
    "b[(*c,) ]"
   ]
  },
  {
   "cell_type": "code",
   "execution_count": 77,
   "id": "b68e9234",
   "metadata": {},
   "outputs": [
    {
     "data": {
      "text/plain": [
       "4"
      ]
     },
     "execution_count": 77,
     "metadata": {},
     "output_type": "execute_result"
    }
   ],
   "source": [
    "b[1,1]"
   ]
  },
  {
   "cell_type": "code",
   "execution_count": 85,
   "id": "82dccf66",
   "metadata": {},
   "outputs": [],
   "source": [
    "m = {}"
   ]
  },
  {
   "cell_type": "code",
   "execution_count": 87,
   "id": "4a695623",
   "metadata": {},
   "outputs": [],
   "source": [
    "m[str(c)] = 1"
   ]
  },
  {
   "cell_type": "code",
   "execution_count": 88,
   "id": "8f95fdb8",
   "metadata": {},
   "outputs": [
    {
     "data": {
      "text/plain": [
       "{'[0, 1]': 1}"
      ]
     },
     "execution_count": 88,
     "metadata": {},
     "output_type": "execute_result"
    }
   ],
   "source": [
    "m"
   ]
  },
  {
   "cell_type": "code",
   "execution_count": 89,
   "id": "1763c065",
   "metadata": {},
   "outputs": [],
   "source": [
    "a = {}"
   ]
  },
  {
   "cell_type": "code",
   "execution_count": 90,
   "id": "552793f0",
   "metadata": {},
   "outputs": [
    {
     "data": {
      "text/plain": [
       "False"
      ]
     },
     "execution_count": 90,
     "metadata": {},
     "output_type": "execute_result"
    }
   ],
   "source": [
    "a == None"
   ]
  },
  {
   "cell_type": "code",
   "execution_count": 91,
   "id": "24693447",
   "metadata": {},
   "outputs": [
    {
     "data": {
      "text/plain": [
       "True"
      ]
     },
     "execution_count": 91,
     "metadata": {},
     "output_type": "execute_result"
    }
   ],
   "source": [
    "a == {}"
   ]
  },
  {
   "cell_type": "code",
   "execution_count": 1,
   "id": "1227c1b3",
   "metadata": {},
   "outputs": [
    {
     "name": "stdout",
     "output_type": "stream",
     "text": [
      "pygame 2.1.2 (SDL 2.0.18, Python 3.10.6)\n",
      "Hello from the pygame community. https://www.pygame.org/contribute.html\n"
     ]
    }
   ],
   "source": [
    "import pygame\n",
    "import pgu\n",
    "from pgu import gui,timer"
   ]
  },
  {
   "cell_type": "code",
   "execution_count": null,
   "id": "029c8fc6",
   "metadata": {},
   "outputs": [],
   "source": [
    "import tkinter.messagebox\n",
    "import tkinter as tk\n",
    " \n",
    "root = tkinter.Tk()\n",
    "root.protocol(\"WM_DELETE_WINDOW\")\n",
    "main_dialog =  tkinter.Frame(root)\n",
    "main_dialog.pack()\n",
    "while True:\n",
    "    try:\n",
    "      main_dialog.update()\n",
    "    except:\n",
    "      print(\"dialog error\")"
   ]
  },
  {
   "cell_type": "code",
   "execution_count": 1,
   "id": "37393ed9",
   "metadata": {},
   "outputs": [
    {
     "name": "stdout",
     "output_type": "stream",
     "text": [
      "pygame 2.1.2 (SDL 2.0.18, Python 3.10.6)\n",
      "Hello from the pygame community. https://www.pygame.org/contribute.html\n",
      "pygame-menu 4.2.8\n"
     ]
    }
   ],
   "source": [
    "import pygame \n",
    "import pygame_menu\n",
    "import sys"
   ]
  },
  {
   "cell_type": "code",
   "execution_count": null,
   "id": "b7747786",
   "metadata": {},
   "outputs": [],
   "source": [
    "pygame.init()\n",
    "surface = pygame.display.set_mode((1024, 768))\n",
    "\n",
    "bg_img = pygame.image.load(\"s_background.png\").convert()\n",
    "surface.blit(bg_img, (0, 0))\n",
    "def set_difficulty(value, difficulty):\n",
    "    # Do the job here !\n",
    "    pass\n",
    "\n",
    "def start_the_game():\n",
    "    # Do the job here !\n",
    "    pass\n",
    "\n",
    "mytheme = pygame_menu.themes.THEME_DARK.copy()\n",
    "# myimage = pygame_menu.baseimage.BaseImage(\n",
    "#     image_path='dialog2.png',\n",
    "#     drawing_mode=pygame_menu.baseimage.IMAGE_MODE_FILL\n",
    "# )\n",
    "\n",
    "#mytheme.background_color = myimage\n",
    "mytheme.background_color=(40, 41, 35, 10)\n",
    "mytheme = mytheme.set_background_color_opacity(0.2)\n",
    "f = pygame.font.Font('云峰静龙行书.ttf', 32)\n",
    "mytheme.widget_font = f\n",
    "#mytheme.title = False\n",
    "#menu = pygame_menu.Menu('Welcome', 400, 300, theme=pygame_menu.themes.THEME_DARK)\n",
    "menu = pygame_menu.Menu('Menu', 400, 300, theme=mytheme)\n",
    "\n",
    "menu.add.button('P1 vs. P2', start_the_game)\n",
    "menu.add.button('P1 vs. Com', start_the_game)\n",
    "menu.add.button('Quit', pygame_menu.events.EXIT)\n",
    "#menu.mainloop(surface)\n",
    "\n",
    "while True:\n",
    "    events = pygame.event.get()\n",
    "    for event in events:\n",
    "        if event.type == pygame.QUIT:\n",
    "            pygame.quit()\n",
    "            sys.exit()\n",
    "        if menu.is_enabled():\n",
    "            menu.update(events)\n",
    "            menu.draw(surface)\n",
    "    pygame.display.update()"
   ]
  },
  {
   "cell_type": "code",
   "execution_count": 1,
   "id": "5be674df",
   "metadata": {},
   "outputs": [],
   "source": [
    "class A():\n",
    "    def __init__(self, s):\n",
    "        self.s = s\n",
    "class B():\n",
    "    def __init__(self):\n",
    "        self.s = None\n",
    "        self.a=A(self.s)\n",
    "        self.s={\"A\":1}"
   ]
  },
  {
   "cell_type": "code",
   "execution_count": 2,
   "id": "440ae3b5",
   "metadata": {},
   "outputs": [],
   "source": [
    "b = B()\n"
   ]
  },
  {
   "cell_type": "code",
   "execution_count": 3,
   "id": "43c70c9e",
   "metadata": {},
   "outputs": [
    {
     "data": {
      "text/plain": [
       "{'A': 1}"
      ]
     },
     "execution_count": 3,
     "metadata": {},
     "output_type": "execute_result"
    }
   ],
   "source": [
    "b.s"
   ]
  },
  {
   "cell_type": "code",
   "execution_count": 5,
   "id": "840b110e",
   "metadata": {},
   "outputs": [
    {
     "name": "stdout",
     "output_type": "stream",
     "text": [
      "None\n"
     ]
    }
   ],
   "source": [
    "print(b.a.s)"
   ]
  },
  {
   "cell_type": "code",
   "execution_count": 6,
   "id": "4809fc06",
   "metadata": {},
   "outputs": [],
   "source": [
    "class A():\n",
    "    v = 0\n",
    "    \n",
    "    def __init__(self, v):\n",
    "        self.v = v"
   ]
  },
  {
   "cell_type": "code",
   "execution_count": 7,
   "id": "c0bc2557",
   "metadata": {},
   "outputs": [],
   "source": [
    "l = [ A(i) for i in range(10)]"
   ]
  },
  {
   "cell_type": "code",
   "execution_count": 9,
   "id": "c93992ea",
   "metadata": {},
   "outputs": [],
   "source": [
    "def test(a):\n",
    "    return a.v * 2"
   ]
  },
  {
   "cell_type": "code",
   "execution_count": 11,
   "id": "380d2b76",
   "metadata": {},
   "outputs": [
    {
     "data": {
      "text/plain": [
       "9"
      ]
     },
     "execution_count": 11,
     "metadata": {},
     "output_type": "execute_result"
    }
   ],
   "source": [
    "max(l, key=lambda x: test(x)).v"
   ]
  },
  {
   "cell_type": "code",
   "execution_count": 39,
   "id": "26aa0056",
   "metadata": {},
   "outputs": [],
   "source": [
    "import random"
   ]
  },
  {
   "cell_type": "code",
   "execution_count": 43,
   "id": "0161e2be",
   "metadata": {},
   "outputs": [
    {
     "data": {
      "text/plain": [
       "0"
      ]
     },
     "execution_count": 43,
     "metadata": {},
     "output_type": "execute_result"
    }
   ],
   "source": [
    "random.randint(0,0)"
   ]
  },
  {
   "cell_type": "code",
   "execution_count": 20,
   "id": "d105d715",
   "metadata": {},
   "outputs": [],
   "source": [
    "import numpy as np"
   ]
  },
  {
   "cell_type": "code",
   "execution_count": 21,
   "id": "53ec3dfc",
   "metadata": {},
   "outputs": [],
   "source": [
    "a = np.array([2, 3])"
   ]
  },
  {
   "cell_type": "code",
   "execution_count": 22,
   "id": "524d9728",
   "metadata": {},
   "outputs": [
    {
     "data": {
      "text/plain": [
       "[2, 3]"
      ]
     },
     "execution_count": 22,
     "metadata": {},
     "output_type": "execute_result"
    }
   ],
   "source": [
    "a.tolist()"
   ]
  },
  {
   "cell_type": "code",
   "execution_count": 23,
   "id": "03b8e9d5",
   "metadata": {},
   "outputs": [],
   "source": [
    "m = {}"
   ]
  },
  {
   "cell_type": "code",
   "execution_count": 24,
   "id": "56652893",
   "metadata": {},
   "outputs": [],
   "source": [
    "m[str(a)] = 1"
   ]
  },
  {
   "cell_type": "code",
   "execution_count": 26,
   "id": "db5b6704",
   "metadata": {},
   "outputs": [
    {
     "data": {
      "text/plain": [
       "{'[2 3]': 1}"
      ]
     },
     "execution_count": 26,
     "metadata": {},
     "output_type": "execute_result"
    }
   ],
   "source": [
    "m"
   ]
  },
  {
   "cell_type": "code",
   "execution_count": 28,
   "id": "e2aa6862",
   "metadata": {},
   "outputs": [],
   "source": [
    "m[str(list(a))]= 1"
   ]
  },
  {
   "cell_type": "code",
   "execution_count": 29,
   "id": "2b428142",
   "metadata": {},
   "outputs": [
    {
     "data": {
      "text/plain": [
       "{'[2 3]': 1, '[2, 3]': 1}"
      ]
     },
     "execution_count": 29,
     "metadata": {},
     "output_type": "execute_result"
    }
   ],
   "source": [
    "m"
   ]
  },
  {
   "cell_type": "code",
   "execution_count": 30,
   "id": "7d438415",
   "metadata": {},
   "outputs": [],
   "source": [
    "x,y = [2,3]"
   ]
  },
  {
   "cell_type": "code",
   "execution_count": 31,
   "id": "bd2e693c",
   "metadata": {},
   "outputs": [
    {
     "data": {
      "text/plain": [
       "2"
      ]
     },
     "execution_count": 31,
     "metadata": {},
     "output_type": "execute_result"
    }
   ],
   "source": [
    "x"
   ]
  },
  {
   "cell_type": "code",
   "execution_count": 32,
   "id": "d138e80b",
   "metadata": {},
   "outputs": [
    {
     "data": {
      "text/plain": [
       "2"
      ]
     },
     "execution_count": 32,
     "metadata": {},
     "output_type": "execute_result"
    }
   ],
   "source": [
    "len([2,3])"
   ]
  },
  {
   "cell_type": "code",
   "execution_count": 33,
   "id": "0bb3f65e",
   "metadata": {},
   "outputs": [
    {
     "ename": "AttributeError",
     "evalue": "'list' object has no attribute 'join'",
     "output_type": "error",
     "traceback": [
      "\u001b[1;31m---------------------------------------------------------------------------\u001b[0m",
      "\u001b[1;31mAttributeError\u001b[0m                            Traceback (most recent call last)",
      "Cell \u001b[1;32mIn [33], line 1\u001b[0m\n\u001b[1;32m----> 1\u001b[0m \u001b[43m[\u001b[49m\u001b[38;5;124;43m'\u001b[39;49m\u001b[38;5;124;43m1\u001b[39;49m\u001b[38;5;124;43m'\u001b[39;49m\u001b[43m,\u001b[49m\u001b[43m \u001b[49m\u001b[38;5;124;43m'\u001b[39;49m\u001b[38;5;124;43m2\u001b[39;49m\u001b[38;5;124;43m'\u001b[39;49m\u001b[43m,\u001b[49m\u001b[43m \u001b[49m\u001b[38;5;124;43m'\u001b[39;49m\u001b[38;5;124;43m3\u001b[39;49m\u001b[38;5;124;43m'\u001b[39;49m\u001b[43m,\u001b[49m\u001b[43m \u001b[49m\u001b[38;5;124;43m'\u001b[39;49m\u001b[38;5;124;43m4\u001b[39;49m\u001b[38;5;124;43m'\u001b[39;49m\u001b[43m,\u001b[49m\u001b[43m \u001b[49m\u001b[38;5;124;43m'\u001b[39;49m\u001b[38;5;124;43m5\u001b[39;49m\u001b[38;5;124;43m'\u001b[39;49m\u001b[43m]\u001b[49m\u001b[38;5;241;43m.\u001b[39;49m\u001b[43mjoin\u001b[49m(\u001b[38;5;124m\"\u001b[39m\u001b[38;5;124m\"\u001b[39m)\n",
      "\u001b[1;31mAttributeError\u001b[0m: 'list' object has no attribute 'join'"
     ]
    }
   ],
   "source": [
    "\n",
    "['1', '2', '3', '4', '5'].join(\"\")"
   ]
  },
  {
   "cell_type": "code",
   "execution_count": 37,
   "id": "c760fa20",
   "metadata": {},
   "outputs": [],
   "source": [
    "a = '[2, 3]'"
   ]
  },
  {
   "cell_type": "code",
   "execution_count": 38,
   "id": "4ba761ff",
   "metadata": {},
   "outputs": [
    {
     "data": {
      "text/plain": [
       "[2, 3]"
      ]
     },
     "execution_count": 38,
     "metadata": {},
     "output_type": "execute_result"
    }
   ],
   "source": [
    "eval(a)"
   ]
  },
  {
   "cell_type": "code",
   "execution_count": 36,
   "id": "31ad2391",
   "metadata": {},
   "outputs": [
    {
     "data": {
      "text/plain": [
       "', '"
      ]
     },
     "execution_count": 36,
     "metadata": {},
     "output_type": "execute_result"
    }
   ],
   "source": [
    "a[2:-2]"
   ]
  },
  {
   "cell_type": "code",
   "execution_count": 44,
   "id": "4cd848cd",
   "metadata": {},
   "outputs": [
    {
     "data": {
      "text/plain": [
       "0"
      ]
     },
     "execution_count": 44,
     "metadata": {},
     "output_type": "execute_result"
    }
   ],
   "source": [
    "len({})"
   ]
  },
  {
   "cell_type": "code",
   "execution_count": 1,
   "id": "d2456664",
   "metadata": {},
   "outputs": [
    {
     "data": {
      "text/plain": [
       "False"
      ]
     },
     "execution_count": 1,
     "metadata": {},
     "output_type": "execute_result"
    }
   ],
   "source": [
    "[] == None"
   ]
  },
  {
   "cell_type": "code",
   "execution_count": 1,
   "id": "9626aa65",
   "metadata": {},
   "outputs": [],
   "source": [
    "m = {'a':1, 'b':2}"
   ]
  },
  {
   "cell_type": "code",
   "execution_count": null,
   "id": "ce079038",
   "metadata": {},
   "outputs": [],
   "source": [
    "for i in m:\n",
    "    print(m)"
   ]
  }
 ],
 "metadata": {
  "kernelspec": {
   "display_name": "Python 3 (ipykernel)",
   "language": "python",
   "name": "python3"
  },
  "language_info": {
   "codemirror_mode": {
    "name": "ipython",
    "version": 3
   },
   "file_extension": ".py",
   "mimetype": "text/x-python",
   "name": "python",
   "nbconvert_exporter": "python",
   "pygments_lexer": "ipython3",
   "version": "3.10.6"
  },
  "vscode": {
   "interpreter": {
    "hash": "1fa163922eb0b3709bbb5d8082b2465c9de796dbaacca80cbaa600e7fff3e4fe"
   }
  }
 },
 "nbformat": 4,
 "nbformat_minor": 5
}
