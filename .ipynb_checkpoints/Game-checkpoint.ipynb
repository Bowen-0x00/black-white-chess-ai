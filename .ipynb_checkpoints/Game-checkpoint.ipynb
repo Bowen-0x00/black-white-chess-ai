{
 "cells": [
  {
   "cell_type": "code",
   "execution_count": 42,
   "id": "88ce008d",
   "metadata": {},
   "outputs": [],
   "source": [
    "import pygame\n",
    "import sys\n",
    "from enum import Enum\n",
    "import numpy as np"
   ]
  },
  {
   "cell_type": "code",
   "execution_count": 33,
   "id": "78c06123",
   "metadata": {},
   "outputs": [],
   "source": [
    "class ChessState(Enum):\n",
    "    INVALID = 0\n",
    "    BLACK = 1\n",
    "    WHITE = 2\n",
    "    VALID = 3"
   ]
  },
  {
   "cell_type": "code",
   "execution_count": 40,
   "id": "be215145",
   "metadata": {},
   "outputs": [],
   "source": [
    "black_score = 0\n",
    "white_score = 0\n",
    "chess_status = []\n",
    "for x in range(8):\n",
    "    chess_status.append([])\n",
    "    for y in range(8):\n",
    "        chess_status[x].append(ChessState.INVALID)\n",
    "chess_status[3][3] = ChessState.WHITE\n",
    "chess_status[3][4] = ChessState.BLACK\n",
    "chess_status[4][3] = ChessState.BLACK\n",
    "chess_status[4][4] = ChessState.WHITE"
   ]
  },
  {
   "cell_type": "code",
   "execution_count": 41,
   "id": "b1618494",
   "metadata": {},
   "outputs": [
    {
     "data": {
      "text/plain": [
       "[[<ChessState.INVALID: 0>,\n",
       "  <ChessState.INVALID: 0>,\n",
       "  <ChessState.INVALID: 0>,\n",
       "  <ChessState.INVALID: 0>,\n",
       "  <ChessState.INVALID: 0>,\n",
       "  <ChessState.INVALID: 0>,\n",
       "  <ChessState.INVALID: 0>,\n",
       "  <ChessState.INVALID: 0>],\n",
       " [<ChessState.INVALID: 0>,\n",
       "  <ChessState.INVALID: 0>,\n",
       "  <ChessState.INVALID: 0>,\n",
       "  <ChessState.INVALID: 0>,\n",
       "  <ChessState.INVALID: 0>,\n",
       "  <ChessState.INVALID: 0>,\n",
       "  <ChessState.INVALID: 0>,\n",
       "  <ChessState.INVALID: 0>],\n",
       " [<ChessState.INVALID: 0>,\n",
       "  <ChessState.INVALID: 0>,\n",
       "  <ChessState.INVALID: 0>,\n",
       "  <ChessState.INVALID: 0>,\n",
       "  <ChessState.INVALID: 0>,\n",
       "  <ChessState.INVALID: 0>,\n",
       "  <ChessState.INVALID: 0>,\n",
       "  <ChessState.INVALID: 0>],\n",
       " [<ChessState.INVALID: 0>,\n",
       "  <ChessState.INVALID: 0>,\n",
       "  <ChessState.INVALID: 0>,\n",
       "  <ChessState.WHITE: 2>,\n",
       "  <ChessState.BLACK: 1>,\n",
       "  <ChessState.INVALID: 0>,\n",
       "  <ChessState.INVALID: 0>,\n",
       "  <ChessState.INVALID: 0>],\n",
       " [<ChessState.INVALID: 0>,\n",
       "  <ChessState.INVALID: 0>,\n",
       "  <ChessState.INVALID: 0>,\n",
       "  <ChessState.BLACK: 1>,\n",
       "  <ChessState.WHITE: 2>,\n",
       "  <ChessState.INVALID: 0>,\n",
       "  <ChessState.INVALID: 0>,\n",
       "  <ChessState.INVALID: 0>],\n",
       " [<ChessState.INVALID: 0>,\n",
       "  <ChessState.INVALID: 0>,\n",
       "  <ChessState.INVALID: 0>,\n",
       "  <ChessState.INVALID: 0>,\n",
       "  <ChessState.INVALID: 0>,\n",
       "  <ChessState.INVALID: 0>,\n",
       "  <ChessState.INVALID: 0>,\n",
       "  <ChessState.INVALID: 0>],\n",
       " [<ChessState.INVALID: 0>,\n",
       "  <ChessState.INVALID: 0>,\n",
       "  <ChessState.INVALID: 0>,\n",
       "  <ChessState.INVALID: 0>,\n",
       "  <ChessState.INVALID: 0>,\n",
       "  <ChessState.INVALID: 0>,\n",
       "  <ChessState.INVALID: 0>,\n",
       "  <ChessState.INVALID: 0>],\n",
       " [<ChessState.INVALID: 0>,\n",
       "  <ChessState.INVALID: 0>,\n",
       "  <ChessState.INVALID: 0>,\n",
       "  <ChessState.INVALID: 0>,\n",
       "  <ChessState.INVALID: 0>,\n",
       "  <ChessState.INVALID: 0>,\n",
       "  <ChessState.INVALID: 0>,\n",
       "  <ChessState.INVALID: 0>]]"
      ]
     },
     "execution_count": 41,
     "metadata": {},
     "output_type": "execute_result"
    }
   ],
   "source": [
    "chess_status"
   ]
  },
  {
   "cell_type": "code",
   "execution_count": 31,
   "id": "1462da10",
   "metadata": {},
   "outputs": [],
   "source": [
    "def init_game():\n",
    "    pygame.init()\n",
    "    screen = pygame.display.set_mode([1024, 768])\n",
    "    board_rect = pygame.rect.Rect(234, 143, 1024, 768)\n",
    "    pygame.display.set_caption(\"Reversi\")\n",
    "    bg_img = pygame.image.load(\"s_background.png\").convert()\n",
    "    black_img = pygame.image.load(\"s_chess_black.png\").convert_alpha()\n",
    "    white_img = pygame.image.load(\"s_chess_white.png\").convert_alpha()\n",
    "    valid_img = pygame.image.load(\"s_chess_valid.png\").convert_alpha()\n",
    "    screen.blit(bg_img, (0, 0))\n",
    "#     screen.blit(white_img, (board_rect.x+3*70, board_rect.y+3*70))\n",
    "#     screen.blit(black_img, (board_rect.x+3*70, board_rect.y+4*70))\n",
    "#     screen.blit(black_img, (board_rect.x+4*70, board_rect.y+3*70))\n",
    "#     screen.blit(white_img, (board_rect.x+4*70, board_rect.y+4*70))"
   ]
  },
  {
   "cell_type": "code",
   "execution_count": 32,
   "id": "0b5077c9",
   "metadata": {},
   "outputs": [
    {
     "ename": "NameError",
     "evalue": "name 'black_img' is not defined",
     "output_type": "error",
     "traceback": [
      "\u001b[1;31m---------------------------------------------------------------------------\u001b[0m",
      "\u001b[1;31mNameError\u001b[0m                                 Traceback (most recent call last)",
      "Cell \u001b[1;32mIn [32], line 1\u001b[0m\n\u001b[1;32m----> 1\u001b[0m chess_state_img_map \u001b[38;5;241m=\u001b[39m {ChessState\u001b[38;5;241m.\u001b[39mBLACK: \u001b[43mblack_img\u001b[49m,\n\u001b[0;32m      2\u001b[0m                       ChessState\u001b[38;5;241m.\u001b[39mWHITE: white_img,\n\u001b[0;32m      3\u001b[0m                       ChessState\u001b[38;5;241m.\u001b[39mVALID: valid_img}\n\u001b[0;32m      4\u001b[0m \u001b[38;5;28;01mdef\u001b[39;00m \u001b[38;5;21mupdate_chess_img_to_screen\u001b[39m():\n\u001b[0;32m      5\u001b[0m     \u001b[38;5;28;01mfor\u001b[39;00m x \u001b[38;5;129;01min\u001b[39;00m \u001b[38;5;28mrange\u001b[39m(\u001b[38;5;241m8\u001b[39m):\n",
      "\u001b[1;31mNameError\u001b[0m: name 'black_img' is not defined"
     ]
    }
   ],
   "source": [
    "chess_state_img_map = {ChessState.BLACK: black_img,\n",
    "                      ChessState.WHITE: white_img,\n",
    "                      ChessState.VALID: valid_img}\n",
    "def update_chess_img_to_screen():\n",
    "    for x in range(8):\n",
    "        for y in range(8):\n",
    "            if chess_status[x][y] != ChessState.INVALID:\n",
    "                screen.blit(chess_state_img_map[chess_status[x][y]], (board_rect.x+y*70, board_rect.y+x*70))"
   ]
  },
  {
   "cell_type": "code",
   "execution_count": 25,
   "id": "316b6033",
   "metadata": {},
   "outputs": [],
   "source": [
    "def run_game():\n",
    "    while True:\n",
    "        for event in pygame.event.get():\n",
    "            if event.type == pygame.QUIT:\n",
    "                pygame.quit()\n",
    "                sys.exit()\n",
    "        pygame.display.update()"
   ]
  },
  {
   "cell_type": "code",
   "execution_count": null,
   "id": "07500b51",
   "metadata": {},
   "outputs": [],
   "source": []
  },
  {
   "cell_type": "code",
   "execution_count": 26,
   "id": "6adee010",
   "metadata": {},
   "outputs": [
    {
     "ename": "SystemExit",
     "evalue": "",
     "output_type": "error",
     "traceback": [
      "An exception has occurred, use %tb to see the full traceback.\n",
      "\u001b[1;31mSystemExit\u001b[0m\n"
     ]
    }
   ],
   "source": [
    "init_game()\n",
    "run_game()"
   ]
  },
  {
   "cell_type": "code",
   "execution_count": 44,
   "id": "3cef0d09",
   "metadata": {},
   "outputs": [],
   "source": [
    "a = np.array([1, 2])"
   ]
  },
  {
   "cell_type": "code",
   "execution_count": 45,
   "id": "dce531ef",
   "metadata": {},
   "outputs": [
    {
     "data": {
      "text/plain": [
       "array([-1, -2])"
      ]
     },
     "execution_count": 45,
     "metadata": {},
     "output_type": "execute_result"
    }
   ],
   "source": [
    "-a"
   ]
  },
  {
   "cell_type": "code",
   "execution_count": 50,
   "id": "21e6c4f2",
   "metadata": {},
   "outputs": [],
   "source": [
    "b= np.array([[1,2],[3,4]]).reshape(2 , 2)"
   ]
  },
  {
   "cell_type": "code",
   "execution_count": 66,
   "id": "2ecddea5",
   "metadata": {},
   "outputs": [],
   "source": [
    "c = [0, 1]"
   ]
  },
  {
   "cell_type": "code",
   "execution_count": 84,
   "id": "ddb4405c",
   "metadata": {},
   "outputs": [
    {
     "data": {
      "text/plain": [
       "2"
      ]
     },
     "execution_count": 84,
     "metadata": {},
     "output_type": "execute_result"
    }
   ],
   "source": [
    "b[(*c,) ]"
   ]
  },
  {
   "cell_type": "code",
   "execution_count": 77,
   "id": "aaa0dcb7",
   "metadata": {},
   "outputs": [
    {
     "data": {
      "text/plain": [
       "4"
      ]
     },
     "execution_count": 77,
     "metadata": {},
     "output_type": "execute_result"
    }
   ],
   "source": [
    "b[1,1]"
   ]
  },
  {
   "cell_type": "code",
   "execution_count": 85,
   "id": "22e6df64",
   "metadata": {},
   "outputs": [],
   "source": [
    "m = {}"
   ]
  },
  {
   "cell_type": "code",
   "execution_count": 87,
   "id": "f6754861",
   "metadata": {},
   "outputs": [],
   "source": [
    "m[str(c)] = 1"
   ]
  },
  {
   "cell_type": "code",
   "execution_count": 88,
   "id": "b30e78d2",
   "metadata": {},
   "outputs": [
    {
     "data": {
      "text/plain": [
       "{'[0, 1]': 1}"
      ]
     },
     "execution_count": 88,
     "metadata": {},
     "output_type": "execute_result"
    }
   ],
   "source": [
    "m"
   ]
  },
  {
   "cell_type": "code",
   "execution_count": 89,
   "id": "91fc74b1",
   "metadata": {},
   "outputs": [],
   "source": [
    "a = {}"
   ]
  },
  {
   "cell_type": "code",
   "execution_count": 90,
   "id": "305a4476",
   "metadata": {},
   "outputs": [
    {
     "data": {
      "text/plain": [
       "False"
      ]
     },
     "execution_count": 90,
     "metadata": {},
     "output_type": "execute_result"
    }
   ],
   "source": [
    "a == None"
   ]
  },
  {
   "cell_type": "code",
   "execution_count": 91,
   "id": "87ee4371",
   "metadata": {},
   "outputs": [
    {
     "data": {
      "text/plain": [
       "True"
      ]
     },
     "execution_count": 91,
     "metadata": {},
     "output_type": "execute_result"
    }
   ],
   "source": [
    "a == {}"
   ]
  },
  {
   "cell_type": "code",
   "execution_count": 92,
   "id": "ea3e5d90",
   "metadata": {},
   "outputs": [],
   "source": [
    "import pygame\n",
    "import pgu\n",
    "from pgu import gui,timer"
   ]
  },
  {
   "cell_type": "code",
   "execution_count": 5,
   "id": "03b5e3e9",
   "metadata": {},
   "outputs": [
    {
     "data": {
      "text/plain": [
       "'ok'"
      ]
     },
     "execution_count": 5,
     "metadata": {},
     "output_type": "execute_result"
    }
   ],
   "source": [
    "import tkinter.messagebox\n",
    "import tkinter as tk\n",
    " \n",
    "root = tkinter.Tk()\n",
    "root.protocol(\"WM_DELETE_WINDOW\", quit_callback)\n",
    "main_dialog =  Tkinter.Frame(root)\n",
    "main_dialog.pack()"
   ]
  },
  {
   "cell_type": "code",
   "execution_count": null,
   "id": "6e6c69ff",
   "metadata": {},
   "outputs": [],
   "source": []
  }
 ],
 "metadata": {
  "kernelspec": {
   "display_name": "Python 3 (ipykernel)",
   "language": "python",
   "name": "python3"
  },
  "language_info": {
   "codemirror_mode": {
    "name": "ipython",
    "version": 3
   },
   "file_extension": ".py",
   "mimetype": "text/x-python",
   "name": "python",
   "nbconvert_exporter": "python",
   "pygments_lexer": "ipython3",
   "version": "3.10.6"
  }
 },
 "nbformat": 4,
 "nbformat_minor": 5
}
