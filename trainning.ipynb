{
 "cells": [
  {
   "cell_type": "code",
   "execution_count": 1,
   "id": "c7e4fbb1",
   "metadata": {},
   "outputs": [],
   "source": [
    "import mysql.connector\n",
    "import numpy as np"
   ]
  },
  {
   "cell_type": "code",
   "execution_count": 2,
   "id": "f62bc766",
   "metadata": {},
   "outputs": [],
   "source": [
    "mydb = mysql.connector.connect(\n",
    "    host=\"127.0.0.1\",\n",
    "    user=\"root\",\n",
    "    passwd=\"123456\",\n",
    "    database=\"reversi\"\n",
    ")\n",
    "mycursor = mydb.cursor()"
   ]
  },
  {
   "cell_type": "code",
   "execution_count": 23,
   "id": "187511c6",
   "metadata": {},
   "outputs": [],
   "source": [
    "sql = 'select finish_id, current, board from reversi_step'\n",
    "mycursor.execute(sql)\n",
    "step_data = mycursor.fetchall()"
   ]
  },
  {
   "cell_type": "code",
   "execution_count": 3,
   "id": "0f1604ac",
   "metadata": {},
   "outputs": [],
   "source": [
    "sql = 'select id, winner from reversi'\n",
    "mycursor.execute(sql)\n",
    "finish_data = mycursor.fetchall()"
   ]
  },
  {
   "cell_type": "code",
   "execution_count": 6,
   "id": "c858ad52",
   "metadata": {},
   "outputs": [],
   "source": [
    "a = np.array(finish_data)"
   ]
  },
  {
   "cell_type": "code",
   "execution_count": 20,
   "id": "26e6e739",
   "metadata": {},
   "outputs": [
    {
     "name": "stdout",
     "output_type": "stream",
     "text": [
      "[  1   2   3   4   5   6   7   8   9  10  11  12  13  14  15  16  17  18\n",
      "  19  20  21  22  23  24  25  26  27  28  29  30  31  32  33  34  35  36\n",
      "  37  38  39  40  41  42  43  44  45  46  47  48  49  50  51  52  53  54\n",
      "  55  56  57  58  59  60  61  62  63  64  65  66  67  68  69  70  71  72\n",
      "  73  74  75  76  77  78  79  80  81  82  83  84  85  86  87  88  89  90\n",
      "  91  92  93  94  95  96  97  98  99 100 101 102 103 104 105 106 107 108\n",
      " 109 110 111 112 113 114 115 116 117 118 119 120 121 122 123 124 125 126\n",
      " 127 128 129 130 131 132 133 134 135 136 137 138 139 140 141 142 143 144\n",
      " 145 146 147 148 149 150 151 152 153 154 155 156 157 158 159 160 161 162\n",
      " 163 164 165 166 167 168 169 170 171 172 173 174 175 176 177 178 179 180\n",
      " 181 182 183 184 185 186 187 188 189 190 191 192 193 194 195 196 197 198\n",
      " 199 200 201 202 203 204 205 206 207 208 209 210 211 212 213 214 215 216\n",
      " 217 218 219 220 221 222 223 224 225 226 227 228 229 230 231 232 233 234\n",
      " 235 236 237 238 239 240 241 242 243 244 245 246 247 248 249 250 251 252\n",
      " 253 254 255 256 257 258 259 260 261 262 263 264 265 266 267 268 269 270\n",
      " 271 272 273 274 275 276 277 278 279 280 281 282 283 284 285 286 287 288\n",
      " 289 290 291 292 293 294 295 296 297 298 299 300 301 302 303 304 305 306\n",
      " 307 308 309 310 311 312 313 314 315 316 317 318 319 320 321 322 323 324\n",
      " 325 326 327 328 329 330 331 332 333 334 335 336 337 338 339 340 341 342\n",
      " 343 344 345 346 347 348 349 350 351 352 353 354 355 356 357 358 359 360\n",
      " 361 362 363 364 365 366 367 368 369 370 371 372 373 374 375 376 377 378\n",
      " 379 380 381 382 383 384 385 386 387 388 389 390 391 392 393 394 395 396\n",
      " 397 398 399 400 401]\n",
      "['BLACK' 'WHITE' 'WHITE' 'BLACK' 'BLACK' 'BLACK' 'BLACK' 'BLACK' 'BLACK'\n",
      " 'BLACK' 'BLACK' 'WHITE' 'BLACK' 'BLACK' 'BLACK' 'BLACK' 'BLACK' 'BLACK'\n",
      " 'BLACK' 'BLACK' 'BLACK' 'BLACK' 'BLACK' 'WHITE' 'BLACK' 'BLACK' 'BLACK'\n",
      " 'BLACK' 'BLACK' 'BLACK' 'BLACK' 'BLACK' 'BLACK' 'BLACK' 'BLACK' 'BLACK'\n",
      " 'BLACK' 'BLACK' 'BLACK' 'BLACK' 'BLACK' 'BLACK' 'BLACK' 'BLACK' 'BLACK'\n",
      " 'BLACK' 'BLACK' 'BLACK' 'BLACK' 'BLACK' 'WHITE' 'BLACK' 'BLACK' 'BLACK'\n",
      " 'WHITE' 'BLACK' 'BLACK' 'BLACK' 'BLACK' 'BLACK' 'BLACK' 'BLACK' 'WHITE'\n",
      " 'BLACK' 'BLACK' 'BLACK' 'BLACK' 'BLACK' 'BLACK' 'BLACK' 'WHITE' 'BLACK'\n",
      " 'BLACK' 'BLACK' 'BLACK' 'BLACK' 'BLACK' 'WHITE' 'BLACK' 'BLACK' 'BLACK'\n",
      " 'BLACK' 'BLACK' 'BLACK' 'WHITE' 'BLACK' 'BLACK' 'BLACK' 'WHITE' 'WHITE'\n",
      " 'BLACK' 'BLACK' 'BLACK' 'BLACK' 'BLACK' 'BLACK' 'BLACK' 'BLACK' 'BLACK'\n",
      " 'BLACK' 'BLACK' 'BLACK' 'WHITE' 'BLACK' 'BLACK' 'WHITE' 'BLACK' 'WHITE'\n",
      " 'BLACK' 'BLACK' 'BLACK' 'BLACK' 'BLACK' 'BLACK' 'BLACK' 'BLACK' 'BLACK'\n",
      " 'BLACK' 'BLACK' 'WHITE' 'BLACK' 'WHITE' 'BLACK' 'WHITE' 'BLACK' 'BLACK'\n",
      " 'BLACK' 'WHITE' 'WHITE' 'BLACK' 'BLACK' 'BLACK' 'WHITE' 'BLACK' 'BLACK'\n",
      " 'WHITE' 'BLACK' 'BLACK' 'WHITE' 'BLACK' 'BLACK' 'BLACK' 'BLACK' 'WHITE'\n",
      " 'WHITE' 'BLACK' 'BLACK' 'BLACK' 'BLACK' 'WHITE' 'BLACK' 'BLACK' 'BLACK'\n",
      " 'BLACK' 'BLACK' 'BLACK' 'WHITE' 'BLACK' 'BLACK' 'BLACK' 'BLACK' 'BLACK'\n",
      " 'BLACK' 'BLACK' 'BLACK' 'WHITE' 'BLACK' 'BLACK' 'BLACK' 'BLACK' 'WHITE'\n",
      " 'WHITE' 'BLACK' 'BLACK' 'WHITE' 'BLACK' 'BLACK' 'WHITE' 'BLACK' 'BLACK'\n",
      " 'WHITE' 'WHITE' 'BLACK' 'BLACK' 'BLACK' 'BLACK' 'BLACK' 'BLACK' 'BLACK'\n",
      " 'BLACK' 'WHITE' 'WHITE' 'BLACK' 'BLACK' 'BLACK' 'WHITE' 'BLACK' 'BLACK'\n",
      " 'BLACK' 'BLACK' 'BLACK' 'BLACK' 'BLACK' 'BLACK' 'BLACK' 'BLACK' 'BLACK'\n",
      " 'BLACK' 'BLACK' 'BLACK' 'BLACK' 'BLACK' 'BLACK' 'BLACK' 'BLACK' 'BLACK'\n",
      " 'BLACK' 'WHITE' 'WHITE' 'BLACK' 'BLACK' 'BLACK' 'WHITE' 'WHITE' 'BLACK'\n",
      " 'BLACK' 'BLACK' 'BLACK' 'BLACK' 'BLACK' 'BLACK' 'WHITE' 'BLACK' 'BLACK'\n",
      " 'BLACK' 'BLACK' 'BLACK' 'BLACK' 'BLACK' 'BLACK' 'BLACK' 'BLACK' 'BLACK'\n",
      " 'BLACK' 'BLACK' 'BLACK' 'BLACK' 'BLACK' 'BLACK' 'WHITE' 'BLACK' 'BLACK'\n",
      " 'BLACK' 'BLACK' 'BLACK' 'BLACK' 'BLACK' 'BLACK' 'WHITE' 'BLACK' 'BLACK'\n",
      " 'BLACK' 'WHITE' 'BLACK' 'BLACK' 'BLACK' 'WHITE' 'BLACK' 'BLACK' 'BLACK'\n",
      " 'BLACK' 'BLACK' 'BLACK' 'BLACK' 'BLACK' 'BLACK' 'BLACK' 'BLACK' 'BLACK'\n",
      " 'BLACK' 'BLACK' 'BLACK' 'BLACK' 'BLACK' 'BLACK' 'BLACK' 'WHITE' 'WHITE'\n",
      " 'BLACK' 'BLACK' 'WHITE' 'BLACK' 'BLACK' 'BLACK' 'BLACK' 'BLACK' 'BLACK'\n",
      " 'BLACK' 'BLACK' 'BLACK' 'BLACK' 'BLACK' 'BLACK' 'BLACK' 'BLACK' 'BLACK'\n",
      " 'BLACK' 'BLACK' 'BLACK' 'BLACK' 'BLACK' 'BLACK' 'BLACK' 'WHITE' 'BLACK'\n",
      " 'BLACK' 'BLACK' 'WHITE' 'BLACK' 'BLACK' 'BLACK' 'WHITE' 'BLACK' 'BLACK'\n",
      " 'WHITE' 'BLACK' 'BLACK' 'BLACK' 'BLACK' 'BLACK' 'WHITE' 'BLACK' 'BLACK'\n",
      " 'BLACK' 'WHITE' 'BLACK' 'BLACK' 'BLACK' 'BLACK' 'BLACK' 'BLACK' 'WHITE'\n",
      " 'BLACK' 'BLACK' 'BLACK' 'BLACK' 'BLACK' 'BLACK' 'BLACK' 'BLACK' 'BLACK'\n",
      " 'BLACK' 'BLACK' 'BLACK' 'BLACK' 'BLACK' 'BLACK' 'BLACK' 'WHITE' 'BLACK'\n",
      " 'BLACK' 'WHITE' 'BLACK' 'BLACK' 'BLACK' 'BLACK' 'BLACK' 'BLACK' 'BLACK'\n",
      " 'BLACK' 'BLACK' 'BLACK' 'BLACK' 'BLACK' 'WHITE' 'WHITE' 'WHITE' 'BLACK'\n",
      " 'BLACK' 'BLACK' 'BLACK' 'BLACK' 'BLACK' 'BLACK' 'WHITE' 'BLACK' 'BLACK'\n",
      " 'BLACK' 'BLACK' 'BLACK' 'BLACK' 'WHITE' 'BLACK' 'WHITE' 'BLACK' 'BLACK'\n",
      " 'BLACK' 'BLACK' 'BLACK' 'BLACK' 'WHITE']\n"
     ]
    }
   ],
   "source": [
    "ids = a[:, 0].astype(int)\n",
    "print(ids)\n",
    "winners = a[:, 1]\n",
    "print(winners)"
   ]
  },
  {
   "cell_type": "code",
   "execution_count": 26,
   "id": "7a791f2c",
   "metadata": {},
   "outputs": [
    {
     "name": "stdout",
     "output_type": "stream",
     "text": [
      "{1: 'BLACK', 2: 'WHITE', 3: 'WHITE', 4: 'BLACK', 5: 'BLACK', 6: 'BLACK', 7: 'BLACK', 8: 'BLACK', 9: 'BLACK', 10: 'BLACK', 11: 'BLACK', 12: 'WHITE', 13: 'BLACK', 14: 'BLACK', 15: 'BLACK', 16: 'BLACK', 17: 'BLACK', 18: 'BLACK', 19: 'BLACK', 20: 'BLACK', 21: 'BLACK', 22: 'BLACK', 23: 'BLACK', 24: 'WHITE', 25: 'BLACK', 26: 'BLACK', 27: 'BLACK', 28: 'BLACK', 29: 'BLACK', 30: 'BLACK', 31: 'BLACK', 32: 'BLACK', 33: 'BLACK', 34: 'BLACK', 35: 'BLACK', 36: 'BLACK', 37: 'BLACK', 38: 'BLACK', 39: 'BLACK', 40: 'BLACK', 41: 'BLACK', 42: 'BLACK', 43: 'BLACK', 44: 'BLACK', 45: 'BLACK', 46: 'BLACK', 47: 'BLACK', 48: 'BLACK', 49: 'BLACK', 50: 'BLACK', 51: 'WHITE', 52: 'BLACK', 53: 'BLACK', 54: 'BLACK', 55: 'WHITE', 56: 'BLACK', 57: 'BLACK', 58: 'BLACK', 59: 'BLACK', 60: 'BLACK', 61: 'BLACK', 62: 'BLACK', 63: 'WHITE', 64: 'BLACK', 65: 'BLACK', 66: 'BLACK', 67: 'BLACK', 68: 'BLACK', 69: 'BLACK', 70: 'BLACK', 71: 'WHITE', 72: 'BLACK', 73: 'BLACK', 74: 'BLACK', 75: 'BLACK', 76: 'BLACK', 77: 'BLACK', 78: 'WHITE', 79: 'BLACK', 80: 'BLACK', 81: 'BLACK', 82: 'BLACK', 83: 'BLACK', 84: 'BLACK', 85: 'WHITE', 86: 'BLACK', 87: 'BLACK', 88: 'BLACK', 89: 'WHITE', 90: 'WHITE', 91: 'BLACK', 92: 'BLACK', 93: 'BLACK', 94: 'BLACK', 95: 'BLACK', 96: 'BLACK', 97: 'BLACK', 98: 'BLACK', 99: 'BLACK', 100: 'BLACK', 101: 'BLACK', 102: 'BLACK', 103: 'WHITE', 104: 'BLACK', 105: 'BLACK', 106: 'WHITE', 107: 'BLACK', 108: 'WHITE', 109: 'BLACK', 110: 'BLACK', 111: 'BLACK', 112: 'BLACK', 113: 'BLACK', 114: 'BLACK', 115: 'BLACK', 116: 'BLACK', 117: 'BLACK', 118: 'BLACK', 119: 'BLACK', 120: 'WHITE', 121: 'BLACK', 122: 'WHITE', 123: 'BLACK', 124: 'WHITE', 125: 'BLACK', 126: 'BLACK', 127: 'BLACK', 128: 'WHITE', 129: 'WHITE', 130: 'BLACK', 131: 'BLACK', 132: 'BLACK', 133: 'WHITE', 134: 'BLACK', 135: 'BLACK', 136: 'WHITE', 137: 'BLACK', 138: 'BLACK', 139: 'WHITE', 140: 'BLACK', 141: 'BLACK', 142: 'BLACK', 143: 'BLACK', 144: 'WHITE', 145: 'WHITE', 146: 'BLACK', 147: 'BLACK', 148: 'BLACK', 149: 'BLACK', 150: 'WHITE', 151: 'BLACK', 152: 'BLACK', 153: 'BLACK', 154: 'BLACK', 155: 'BLACK', 156: 'BLACK', 157: 'WHITE', 158: 'BLACK', 159: 'BLACK', 160: 'BLACK', 161: 'BLACK', 162: 'BLACK', 163: 'BLACK', 164: 'BLACK', 165: 'BLACK', 166: 'WHITE', 167: 'BLACK', 168: 'BLACK', 169: 'BLACK', 170: 'BLACK', 171: 'WHITE', 172: 'WHITE', 173: 'BLACK', 174: 'BLACK', 175: 'WHITE', 176: 'BLACK', 177: 'BLACK', 178: 'WHITE', 179: 'BLACK', 180: 'BLACK', 181: 'WHITE', 182: 'WHITE', 183: 'BLACK', 184: 'BLACK', 185: 'BLACK', 186: 'BLACK', 187: 'BLACK', 188: 'BLACK', 189: 'BLACK', 190: 'BLACK', 191: 'WHITE', 192: 'WHITE', 193: 'BLACK', 194: 'BLACK', 195: 'BLACK', 196: 'WHITE', 197: 'BLACK', 198: 'BLACK', 199: 'BLACK', 200: 'BLACK', 201: 'BLACK', 202: 'BLACK', 203: 'BLACK', 204: 'BLACK', 205: 'BLACK', 206: 'BLACK', 207: 'BLACK', 208: 'BLACK', 209: 'BLACK', 210: 'BLACK', 211: 'BLACK', 212: 'BLACK', 213: 'BLACK', 214: 'BLACK', 215: 'BLACK', 216: 'BLACK', 217: 'BLACK', 218: 'WHITE', 219: 'WHITE', 220: 'BLACK', 221: 'BLACK', 222: 'BLACK', 223: 'WHITE', 224: 'WHITE', 225: 'BLACK', 226: 'BLACK', 227: 'BLACK', 228: 'BLACK', 229: 'BLACK', 230: 'BLACK', 231: 'BLACK', 232: 'WHITE', 233: 'BLACK', 234: 'BLACK', 235: 'BLACK', 236: 'BLACK', 237: 'BLACK', 238: 'BLACK', 239: 'BLACK', 240: 'BLACK', 241: 'BLACK', 242: 'BLACK', 243: 'BLACK', 244: 'BLACK', 245: 'BLACK', 246: 'BLACK', 247: 'BLACK', 248: 'BLACK', 249: 'BLACK', 250: 'WHITE', 251: 'BLACK', 252: 'BLACK', 253: 'BLACK', 254: 'BLACK', 255: 'BLACK', 256: 'BLACK', 257: 'BLACK', 258: 'BLACK', 259: 'WHITE', 260: 'BLACK', 261: 'BLACK', 262: 'BLACK', 263: 'WHITE', 264: 'BLACK', 265: 'BLACK', 266: 'BLACK', 267: 'WHITE', 268: 'BLACK', 269: 'BLACK', 270: 'BLACK', 271: 'BLACK', 272: 'BLACK', 273: 'BLACK', 274: 'BLACK', 275: 'BLACK', 276: 'BLACK', 277: 'BLACK', 278: 'BLACK', 279: 'BLACK', 280: 'BLACK', 281: 'BLACK', 282: 'BLACK', 283: 'BLACK', 284: 'BLACK', 285: 'BLACK', 286: 'BLACK', 287: 'WHITE', 288: 'WHITE', 289: 'BLACK', 290: 'BLACK', 291: 'WHITE', 292: 'BLACK', 293: 'BLACK', 294: 'BLACK', 295: 'BLACK', 296: 'BLACK', 297: 'BLACK', 298: 'BLACK', 299: 'BLACK', 300: 'BLACK', 301: 'BLACK', 302: 'BLACK', 303: 'BLACK', 304: 'BLACK', 305: 'BLACK', 306: 'BLACK', 307: 'BLACK', 308: 'BLACK', 309: 'BLACK', 310: 'BLACK', 311: 'BLACK', 312: 'BLACK', 313: 'BLACK', 314: 'WHITE', 315: 'BLACK', 316: 'BLACK', 317: 'BLACK', 318: 'WHITE', 319: 'BLACK', 320: 'BLACK', 321: 'BLACK', 322: 'WHITE', 323: 'BLACK', 324: 'BLACK', 325: 'WHITE', 326: 'BLACK', 327: 'BLACK', 328: 'BLACK', 329: 'BLACK', 330: 'BLACK', 331: 'WHITE', 332: 'BLACK', 333: 'BLACK', 334: 'BLACK', 335: 'WHITE', 336: 'BLACK', 337: 'BLACK', 338: 'BLACK', 339: 'BLACK', 340: 'BLACK', 341: 'BLACK', 342: 'WHITE', 343: 'BLACK', 344: 'BLACK', 345: 'BLACK', 346: 'BLACK', 347: 'BLACK', 348: 'BLACK', 349: 'BLACK', 350: 'BLACK', 351: 'BLACK', 352: 'BLACK', 353: 'BLACK', 354: 'BLACK', 355: 'BLACK', 356: 'BLACK', 357: 'BLACK', 358: 'BLACK', 359: 'WHITE', 360: 'BLACK', 361: 'BLACK', 362: 'WHITE', 363: 'BLACK', 364: 'BLACK', 365: 'BLACK', 366: 'BLACK', 367: 'BLACK', 368: 'BLACK', 369: 'BLACK', 370: 'BLACK', 371: 'BLACK', 372: 'BLACK', 373: 'BLACK', 374: 'BLACK', 375: 'WHITE', 376: 'WHITE', 377: 'WHITE', 378: 'BLACK', 379: 'BLACK', 380: 'BLACK', 381: 'BLACK', 382: 'BLACK', 383: 'BLACK', 384: 'BLACK', 385: 'WHITE', 386: 'BLACK', 387: 'BLACK', 388: 'BLACK', 389: 'BLACK', 390: 'BLACK', 391: 'BLACK', 392: 'WHITE', 393: 'BLACK', 394: 'WHITE', 395: 'BLACK', 396: 'BLACK', 397: 'BLACK', 398: 'BLACK', 399: 'BLACK', 400: 'BLACK', 401: 'WHITE'}\n"
     ]
    }
   ],
   "source": [
    "winners_map = dict(zip(ids, winners))\n",
    "print(winners_map)"
   ]
  },
  {
   "cell_type": "code",
   "execution_count": 28,
   "id": "6dfd640a",
   "metadata": {},
   "outputs": [],
   "source": [
    "N = len(finish_data)\n",
    "n = len(step_data)\n",
    "train_data = np.zeros((n, 4,8,8), dtype = int)\n",
    "train_pre = np.zeros((n, ), dtype = int)\n",
    "#for i in range(N):\n",
    "for i in range(n):\n",
    "    b = np.array(step_data[i][2].split(' ')).reshape(8,8)\n",
    "    train_pre[i] = 1 if step_data[i][1] == winners_map[step_data[i][0]] else 0\n",
    "    for x in range(8):\n",
    "        for y in range(8):\n",
    "            if b[x][y] == u'\\u25CF':\n",
    "                train_data[i][0][x][y] = 1\n",
    "            elif b[x][y] == u'\\u25CB':\n",
    "                train_data[i][1][x][y] = 1\n",
    "            elif b[x][y] == u'\\u2B1A':\n",
    "                train_data[i][2][x][y] = 1\n",
    "            if step_data[i][1] == 'BLACK':\n",
    "                train_data[i][3][x][y] = 1\n",
    "            elif step_data[i][1] == 'WHITE':\n",
    "                train_data[i][3][x][y] = 0"
   ]
  },
  {
   "cell_type": "code",
   "execution_count": 31,
   "id": "e60a8708",
   "metadata": {},
   "outputs": [
    {
     "data": {
      "text/plain": [
       "array([[[0, 0, 0, 0, 0, 0, 0, 0],\n",
       "        [0, 0, 0, 0, 0, 0, 0, 0],\n",
       "        [0, 0, 0, 1, 0, 0, 0, 0],\n",
       "        [0, 0, 0, 1, 1, 0, 0, 0],\n",
       "        [0, 0, 0, 0, 0, 0, 0, 0],\n",
       "        [0, 0, 0, 0, 0, 0, 0, 0],\n",
       "        [0, 0, 0, 0, 0, 0, 0, 0],\n",
       "        [0, 0, 0, 0, 0, 0, 0, 0]],\n",
       "\n",
       "       [[0, 0, 0, 0, 0, 0, 0, 0],\n",
       "        [0, 0, 0, 0, 0, 0, 0, 0],\n",
       "        [0, 0, 0, 0, 0, 0, 0, 0],\n",
       "        [0, 0, 0, 0, 0, 0, 0, 0],\n",
       "        [0, 0, 1, 1, 1, 0, 0, 0],\n",
       "        [0, 0, 0, 0, 0, 0, 0, 0],\n",
       "        [0, 0, 0, 0, 0, 0, 0, 0],\n",
       "        [0, 0, 0, 0, 0, 0, 0, 0]],\n",
       "\n",
       "       [[1, 1, 1, 1, 1, 1, 1, 1],\n",
       "        [1, 1, 1, 1, 1, 1, 1, 1],\n",
       "        [1, 1, 1, 0, 1, 1, 1, 1],\n",
       "        [1, 1, 1, 0, 0, 1, 1, 1],\n",
       "        [1, 1, 0, 0, 0, 1, 1, 1],\n",
       "        [1, 1, 1, 1, 1, 1, 1, 1],\n",
       "        [1, 1, 1, 1, 1, 1, 1, 1],\n",
       "        [1, 1, 1, 1, 1, 1, 1, 1]],\n",
       "\n",
       "       [[1, 1, 1, 1, 1, 1, 1, 1],\n",
       "        [1, 1, 1, 1, 1, 1, 1, 1],\n",
       "        [1, 1, 1, 1, 1, 1, 1, 1],\n",
       "        [1, 1, 1, 1, 1, 1, 1, 1],\n",
       "        [1, 1, 1, 1, 1, 1, 1, 1],\n",
       "        [1, 1, 1, 1, 1, 1, 1, 1],\n",
       "        [1, 1, 1, 1, 1, 1, 1, 1],\n",
       "        [1, 1, 1, 1, 1, 1, 1, 1]]])"
      ]
     },
     "execution_count": 31,
     "metadata": {},
     "output_type": "execute_result"
    }
   ],
   "source": [
    "train_data[1]"
   ]
  },
  {
   "cell_type": "code",
   "execution_count": 32,
   "id": "5f735e51",
   "metadata": {},
   "outputs": [
    {
     "data": {
      "text/plain": [
       "array([0, 1, 0, ..., 0, 1, 0])"
      ]
     },
     "execution_count": 32,
     "metadata": {},
     "output_type": "execute_result"
    }
   ],
   "source": [
    "train_pre"
   ]
  },
  {
   "cell_type": "code",
   "execution_count": null,
   "id": "e822b66e",
   "metadata": {},
   "outputs": [],
   "source": []
  }
 ],
 "metadata": {
  "kernelspec": {
   "display_name": "Python 3 (ipykernel)",
   "language": "python",
   "name": "python3"
  },
  "language_info": {
   "codemirror_mode": {
    "name": "ipython",
    "version": 3
   },
   "file_extension": ".py",
   "mimetype": "text/x-python",
   "name": "python",
   "nbconvert_exporter": "python",
   "pygments_lexer": "ipython3",
   "version": "3.10.6"
  }
 },
 "nbformat": 4,
 "nbformat_minor": 5
}
