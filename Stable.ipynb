{
 "cells": [
  {
   "cell_type": "code",
   "execution_count": 2,
   "id": "4d877010",
   "metadata": {},
   "outputs": [],
   "source": [
    "import numpy as np"
   ]
  },
  {
   "cell_type": "code",
   "execution_count": 53,
   "id": "5f2f82c6",
   "metadata": {},
   "outputs": [],
   "source": [
    "board = np.array([\n",
    "[1, 1, 1, 1, 1, 1, 1, 1],\n",
    "[1, 0, 0, 0, 0, 0, 0, 0],\n",
    "[1, 0, 2, 2, 2, 2, 0, 0],\n",
    "[1, 0, 2, 1, 1, 2, 0, 0],\n",
    "[0, 0, 2, 1, 1, 2, 0, 0],\n",
    "[0, 0, 2, 2, 2, 2, 0, 1],\n",
    "[0, 1, 1, 1, 0, 0, 1, 1],\n",
    "[1, 0, 1, 1, 1, 1, 1, 1]\n",
    "])"
   ]
  },
  {
   "cell_type": "code",
   "execution_count": 3,
   "id": "7f566bc1",
   "metadata": {},
   "outputs": [],
   "source": [
    "board = np.array([\n",
    "[0, 0, 0, 0, 0, 0, 0, 0],\n",
    "[0, 0, 0, 0, 0, 0, 0, 0],\n",
    "[0, 0, 0, 0, 0, 0, 0, 0],\n",
    "[0, 0, 0, 1, 2, 0, 0, 0],\n",
    "[0, 0, 0, 2, 1, 0, 0, 0],\n",
    "[0, 0, 0, 0, 0, 0, 0, 0],\n",
    "[0, 0, 0, 0, 0, 0, 0, 0],\n",
    "[0, 0, 0, 0, 0, 0, 0, 0]\n",
    "])"
   ]
  },
  {
   "cell_type": "code",
   "execution_count": 11,
   "id": "e033c716",
   "metadata": {},
   "outputs": [],
   "source": []
  },
  {
   "cell_type": "code",
   "execution_count": 48,
   "id": "18e09662",
   "metadata": {},
   "outputs": [
    {
     "name": "stdout",
     "output_type": "stream",
     "text": [
      "[[1. 1. 1. 1. 1. 1. 1. 1.]\n",
      " [1. 0. 0. 0. 0. 0. 0. 0.]\n",
      " [1. 0. 0. 0. 0. 0. 0. 0.]\n",
      " [1. 0. 0. 0. 0. 0. 0. 0.]\n",
      " [0. 0. 0. 0. 0. 0. 0. 0.]\n",
      " [0. 0. 0. 0. 0. 0. 0. 1.]\n",
      " [0. 0. 0. 0. 0. 0. 1. 1.]\n",
      " [0. 0. 1. 1. 1. 1. 1. 1.]]\n"
     ]
    }
   ],
   "source": [
    "# stable[0,:] = 2\n",
    "# stable[8,:] = 2\n",
    "# stable[:,0] = 2\n",
    "# stable[:,8] = 2\n",
    "print(stable)"
   ]
  },
  {
   "cell_type": "code",
   "execution_count": 4,
   "id": "6adef68a",
   "metadata": {},
   "outputs": [
    {
     "name": "stdout",
     "output_type": "stream",
     "text": [
      "[[0. 0. 0. 0. 0. 0. 0. 0.]\n",
      " [0. 0. 0. 0. 0. 0. 0. 0.]\n",
      " [0. 0. 0. 0. 0. 0. 0. 0.]\n",
      " [0. 0. 0. 0. 0. 0. 0. 0.]\n",
      " [0. 0. 0. 0. 0. 0. 0. 0.]\n",
      " [0. 0. 0. 0. 0. 0. 0. 0.]\n",
      " [0. 0. 0. 0. 0. 0. 0. 0.]\n",
      " [0. 0. 0. 0. 0. 0. 0. 0.]]\n",
      "idx, c 0 [1 1]\n",
      "idx, c 1 [1 6]\n",
      "idx, c 2 [6 1]\n",
      "idx, c 3 [6 6]\n",
      "idx, c 0 [2 2]\n",
      "idx, c 1 [2 5]\n",
      "idx, c 2 [5 2]\n",
      "idx, c 3 [5 5]\n",
      "idx, c 0 [3 3]\n",
      "break [3 3]\n",
      "idx, c 1 [3 4]\n",
      "idx, c 2 [4 3]\n",
      "idx, c 3 [4 4]\n",
      "break [4 4]\n"
     ]
    }
   ],
   "source": [
    "\n",
    "#     for y in range(8):\n",
    "#         if board[x][y] == 1:\n",
    "#             pos = (x, y)\n",
    "#             pos_next = pos\n",
    "#             pos_s = (x + 1, y+1)\n",
    "#             pos_s_next = pos_s\n",
    "#             for d in directs:\n",
    "#                 for i in range(8):\n",
    "#                     pos_next += d\n",
    "#                     if board[pos_next] == 1\n",
    "stable = np.zeros((8, 8))\n",
    "corners = [np.array([0, 0]),np.array([0, 7]),np.array([7, 0]),np.array([7, 7])]   \n",
    "directions_list = np.array([[np.array([0, 1]),np.array([1, 0]),np.array([1, 1])],\n",
    "          [np.array([0, -1]),np.array([1, 0]),np.array([1, -1])],\n",
    "          [np.array([0, 1]),np.array([-1, 0]),np.array([-1, 1])],\n",
    "          [np.array([0, -1]),np.array([-1, 0]),np.array([-1, -1])]])\n",
    "# for x in range(8):\n",
    "for idx, c in enumerate(corners):\n",
    "    if board[(*c,)] == 1:\n",
    "        stable[(*c,)] = 1\n",
    "        directions = directions_list[idx]\n",
    "        count = 0\n",
    "        for d in directions[0:2]:\n",
    "            pos_next = c + d\n",
    "            for i in range(7):\n",
    "                if board[(*pos_next,)] == 1:\n",
    "                    stable[(*pos_next,)] = 1\n",
    "                else:\n",
    "                    break\n",
    "                pos_next += d\n",
    "print(stable)\n",
    "for j in range(3): \n",
    "    corners[0] += (1,1)   \n",
    "    corners[1] += (1,-1)\n",
    "    corners[2] += (-1,1)\n",
    "    corners[3] += (-1,-1)\n",
    "    for idx, c in enumerate(corners):\n",
    "        print('idx, c', idx, c)\n",
    "        if board[(*c,)] == 1:\n",
    "            directions = directions_list[idx]\n",
    "            count = 0\n",
    "            for d in directions:\n",
    "                if stable[(*(c - d),)] != 1:\n",
    "                    print('break', c)\n",
    "                    count= 0\n",
    "                    break\n",
    "                count += 1\n",
    "            if count == 3:\n",
    "                stable[(*c,)] = 1\n",
    "                print('stable[(*c,)] = 1', c)\n",
    "                for d in directions[0:2]:\n",
    "                    pos_next = c + d\n",
    "                    for i in range(7):\n",
    "                        if board[(*pos_next,)] == 1:\n",
    "                            stable[(*pos_next,)] = 1\n",
    "                            if list(pos_next) == [6, 1]:\n",
    "                                print('[6, 1]: ', c, d)\n",
    "                        else:\n",
    "                            break\n",
    "                        pos_next += d            \n",
    "            \n",
    "            \n",
    "            "
   ]
  },
  {
   "cell_type": "code",
   "execution_count": 5,
   "id": "ebb9bbb2",
   "metadata": {},
   "outputs": [
    {
     "data": {
      "text/plain": [
       "array([[0., 0., 0., 0., 0., 0., 0., 0.],\n",
       "       [0., 0., 0., 0., 0., 0., 0., 0.],\n",
       "       [0., 0., 0., 0., 0., 0., 0., 0.],\n",
       "       [0., 0., 0., 0., 0., 0., 0., 0.],\n",
       "       [0., 0., 0., 0., 0., 0., 0., 0.],\n",
       "       [0., 0., 0., 0., 0., 0., 0., 0.],\n",
       "       [0., 0., 0., 0., 0., 0., 0., 0.],\n",
       "       [0., 0., 0., 0., 0., 0., 0., 0.]])"
      ]
     },
     "execution_count": 5,
     "metadata": {},
     "output_type": "execute_result"
    }
   ],
   "source": [
    "stable"
   ]
  },
  {
   "cell_type": "code",
   "execution_count": 33,
   "id": "d3a1ed23",
   "metadata": {},
   "outputs": [
    {
     "data": {
      "text/plain": [
       "1.0"
      ]
     },
     "execution_count": 33,
     "metadata": {},
     "output_type": "execute_result"
    }
   ],
   "source": [
    "stable[(*(c - d),)]"
   ]
  },
  {
   "cell_type": "code",
   "execution_count": 73,
   "id": "1eff733e",
   "metadata": {},
   "outputs": [
    {
     "data": {
      "text/plain": [
       "array([[ 0, -1],\n",
       "       [-1,  0]])"
      ]
     },
     "execution_count": 73,
     "metadata": {},
     "output_type": "execute_result"
    }
   ],
   "source": [
    "directions[0:2]"
   ]
  },
  {
   "cell_type": "code",
   "execution_count": 81,
   "id": "172e59fe",
   "metadata": {},
   "outputs": [
    {
     "data": {
      "text/plain": [
       "array([3, 3])"
      ]
     },
     "execution_count": 81,
     "metadata": {},
     "output_type": "execute_result"
    }
   ],
   "source": [
    " corners[0]"
   ]
  },
  {
   "cell_type": "code",
   "execution_count": null,
   "id": "40101749",
   "metadata": {},
   "outputs": [],
   "source": []
  }
 ],
 "metadata": {
  "kernelspec": {
   "display_name": "Python 3 (ipykernel)",
   "language": "python",
   "name": "python3"
  },
  "language_info": {
   "codemirror_mode": {
    "name": "ipython",
    "version": 3
   },
   "file_extension": ".py",
   "mimetype": "text/x-python",
   "name": "python",
   "nbconvert_exporter": "python",
   "pygments_lexer": "ipython3",
   "version": "3.10.6"
  }
 },
 "nbformat": 4,
 "nbformat_minor": 5
}
