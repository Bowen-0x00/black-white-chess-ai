{
 "cells": [
  {
   "cell_type": "code",
   "execution_count": 1,
   "id": "f9bb7972",
   "metadata": {},
   "outputs": [],
   "source": [
    "import mysql.connector\n",
    "import numpy as np"
   ]
  },
  {
   "cell_type": "code",
   "execution_count": 7,
   "id": "ef5b4baf",
   "metadata": {},
   "outputs": [],
   "source": [
    "mydb = mysql.connector.connect(\n",
    "    host=\"127.0.0.1\",\n",
    "    user=\"root\",\n",
    "    passwd=\"123456\",\n",
    "    database=\"reversi\"\n",
    ")\n",
    "mycursor = mydb.cursor()"
   ]
  },
  {
   "cell_type": "code",
   "execution_count": 21,
   "id": "fa337b19",
   "metadata": {},
   "outputs": [],
   "source": [
    "sql = 'select *  from reversi where id>=2 and id <= 101'\n",
    "mycursor.execute(sql)\n",
    "match_data = mycursor.fetchall()"
   ]
  },
  {
   "cell_type": "code",
   "execution_count": 22,
   "id": "068f4f72",
   "metadata": {},
   "outputs": [
    {
     "data": {
      "text/plain": [
       "(2,\n",
       " 'UCT',\n",
       " 'GREEDY_MINPOS',\n",
       " 'WHITE',\n",
       " 24,\n",
       " 40,\n",
       " 1.0,\n",
       " 100,\n",
       " 2.0,\n",
       " 0,\n",
       " 0,\n",
       " 0.0,\n",
       " '○ ○ ○ ○ ● ● ● ● ○ ○ ○ ○ ○ ○ ○ ● ○ ○ ○ ● ● ● ● ● ○ ● ○ ○ ● ● ○ ● ○ ● ○ ● ○ ● ○ ○ ○ ○ ● ● ● ● ○ ○ ○ ○ ● ● ○ ○ ○ ○ ○ ○ ● ○ ○ ○ ○ ○')"
      ]
     },
     "execution_count": 22,
     "metadata": {},
     "output_type": "execute_result"
    }
   ],
   "source": [
    "match_data[0]"
   ]
  },
  {
   "cell_type": "code",
   "execution_count": 24,
   "id": "5b032f84",
   "metadata": {},
   "outputs": [
    {
     "name": "stdout",
     "output_type": "stream",
     "text": [
      "['○', '○', '○', '○', '●', '●', '●', '●']\n",
      "['○', '○', '○', '○', '○', '○', '○', '●']\n",
      "['○', '○', '○', '●', '●', '●', '●', '●']\n",
      "['○', '●', '○', '○', '●', '●', '○', '●']\n",
      "['○', '●', '○', '●', '○', '●', '○', '○']\n",
      "['○', '○', '●', '●', '●', '●', '○', '○']\n",
      "['○', '○', '●', '●', '○', '○', '○', '○']\n",
      "['○', '○', '●', '○', '○', '○', '○', '○']\n"
     ]
    }
   ],
   "source": [
    "for i in range(8):\n",
    "    print(match_data[0][-1].split(' ')[i*8:i*8+8])"
   ]
  },
  {
   "cell_type": "code",
   "execution_count": 26,
   "id": "5a3ac507",
   "metadata": {},
   "outputs": [
    {
     "data": {
      "text/plain": [
       "0.88"
      ]
     },
     "execution_count": 26,
     "metadata": {},
     "output_type": "execute_result"
    }
   ],
   "source": [
    "len([m for m in match_data if m[3]=='BLACK']) / len(match_data)"
   ]
  },
  {
   "cell_type": "code",
   "execution_count": 31,
   "id": "52e92000",
   "metadata": {},
   "outputs": [],
   "source": [
    "sql = 'select *  from reversi where id>=1275 and id <= 1307'\n",
    "mycursor.execute(sql)\n",
    "match_data = mycursor.fetchall()"
   ]
  },
  {
   "cell_type": "code",
   "execution_count": 32,
   "id": "60a02108",
   "metadata": {},
   "outputs": [
    {
     "data": {
      "text/plain": [
       "(1275,\n",
       " 'UCT',\n",
       " 'UCT_EXPERT',\n",
       " 'WHITE',\n",
       " 21,\n",
       " 43,\n",
       " 1.0,\n",
       " 100,\n",
       " 2.0,\n",
       " 1,\n",
       " 100,\n",
       " 2.0,\n",
       " '● ○ ○ ○ ○ ○ ○ ○ ○ ○ ○ ○ ○ ○ ○ ○ ○ ○ ● ● ○ ○ ○ ○ ○ ● ● ○ ○ ○ ○ ○ ○ ● ○ ○ ● ○ ○ ○ ○ ● ○ ○ ○ ● ○ ○ ○ ● ● ● ○ ○ ● ● ○ ● ● ● ● ● ● ●')"
      ]
     },
     "execution_count": 32,
     "metadata": {},
     "output_type": "execute_result"
    }
   ],
   "source": [
    "match_data[0]"
   ]
  },
  {
   "cell_type": "code",
   "execution_count": 33,
   "id": "3c37a464",
   "metadata": {},
   "outputs": [
    {
     "data": {
      "text/plain": [
       "0.8181818181818182"
      ]
     },
     "execution_count": 33,
     "metadata": {},
     "output_type": "execute_result"
    }
   ],
   "source": [
    "len([m for m in match_data if m[3]=='WHITE']) / len(match_data)"
   ]
  },
  {
   "cell_type": "code",
   "execution_count": 34,
   "id": "176d3814",
   "metadata": {},
   "outputs": [],
   "source": [
    "sql = 'select *  from reversi where id>=1308 and id <= 1337'\n",
    "mycursor.execute(sql)\n",
    "match_data = mycursor.fetchall()"
   ]
  },
  {
   "cell_type": "code",
   "execution_count": 35,
   "id": "b2ff83f8",
   "metadata": {},
   "outputs": [
    {
     "data": {
      "text/plain": [
       "(1308,\n",
       " 'GREEDY_MAXSCORE',\n",
       " 'UCT_EXPERT',\n",
       " 'WHITE',\n",
       " 11,\n",
       " 53,\n",
       " 1.0,\n",
       " 100,\n",
       " 2.0,\n",
       " 1,\n",
       " 100,\n",
       " 2.0,\n",
       " '○ ○ ○ ○ ○ ○ ● ○ ○ ○ ● ○ ○ ○ ● ● ○ ○ ● ● ● ○ ○ ● ○ ○ ○ ● ● ○ ○ ○ ○ ○ ○ ○ ○ ○ ○ ○ ○ ○ ○ ○ ○ ○ ○ ○ ○ ○ ○ ● ○ ○ ○ ○ ○ ○ ○ ○ ○ ○ ○ ○')"
      ]
     },
     "execution_count": 35,
     "metadata": {},
     "output_type": "execute_result"
    }
   ],
   "source": [
    "match_data[0]"
   ]
  },
  {
   "cell_type": "code",
   "execution_count": 36,
   "id": "d15cf873",
   "metadata": {},
   "outputs": [
    {
     "data": {
      "text/plain": [
       "0.8666666666666667"
      ]
     },
     "execution_count": 36,
     "metadata": {},
     "output_type": "execute_result"
    }
   ],
   "source": [
    "len([m for m in match_data if m[3]=='WHITE']) / len(match_data)"
   ]
  },
  {
   "cell_type": "code",
   "execution_count": 52,
   "id": "0464d963",
   "metadata": {},
   "outputs": [],
   "source": [
    "sql = 'select *  from reversi where id>=1338 and id <= 1377'\n",
    "mycursor.execute(sql)\n",
    "match_data = mycursor.fetchall()"
   ]
  },
  {
   "cell_type": "code",
   "execution_count": 53,
   "id": "f59f98cb",
   "metadata": {},
   "outputs": [
    {
     "data": {
      "text/plain": [
       "(1338,\n",
       " 'UCT_EXPERT',\n",
       " 'UCT_EXPERT',\n",
       " 'WHITE',\n",
       " 19,\n",
       " 45,\n",
       " 3.0,\n",
       " 100,\n",
       " 2.0,\n",
       " 1,\n",
       " 100,\n",
       " 2.0,\n",
       " '○ ○ ○ ○ ○ ○ ○ ● ○ ○ ○ ○ ● ● ● ● ○ ○ ○ ○ ● ● ● ○ ○ ○ ○ ○ ● ● ● ○ ● ○ ● ● ○ ○ ● ○ ○ ○ ○ ○ ○ ○ ● ○ ○ ○ ○ ○ ● ● ● ○ ○ ○ ○ ○ ○ ○ ○ ○')"
      ]
     },
     "execution_count": 53,
     "metadata": {},
     "output_type": "execute_result"
    }
   ],
   "source": [
    "match_data[0]"
   ]
  },
  {
   "cell_type": "code",
   "execution_count": 54,
   "id": "cc819ebd",
   "metadata": {},
   "outputs": [
    {
     "data": {
      "text/plain": [
       "0.175"
      ]
     },
     "execution_count": 54,
     "metadata": {},
     "output_type": "execute_result"
    }
   ],
   "source": [
    "len([m for m in match_data if m[3]=='BLACK']) / len(match_data)"
   ]
  },
  {
   "cell_type": "code",
   "execution_count": 49,
   "id": "2e664581",
   "metadata": {},
   "outputs": [],
   "source": [
    "sql = 'select *  from reversi where id>=1378 and id <= 1417'\n",
    "mycursor.execute(sql)\n",
    "match_data = mycursor.fetchall()"
   ]
  },
  {
   "cell_type": "code",
   "execution_count": 50,
   "id": "106bb75f",
   "metadata": {},
   "outputs": [
    {
     "data": {
      "text/plain": [
       "(1378,\n",
       " 'UCT',\n",
       " 'UCT',\n",
       " 'WHITE',\n",
       " 25,\n",
       " 39,\n",
       " 1.0,\n",
       " 100,\n",
       " 1.0,\n",
       " 1,\n",
       " 100,\n",
       " 10.0,\n",
       " '○ ○ ○ ○ ○ ○ ○ ○ ○ ○ ○ ○ ○ ● ○ ○ ○ ● ○ ● ● ○ ● ○ ○ ● ○ ● ○ ● ● ○ ○ ● ● ○ ○ ○ ● ○ ○ ● ○ ● ● ● ● ● ○ ● ● ● ● ● ● ● ○ ○ ○ ○ ○ ○ ○ ○')"
      ]
     },
     "execution_count": 50,
     "metadata": {},
     "output_type": "execute_result"
    }
   ],
   "source": [
    "match_data[0]"
   ]
  },
  {
   "cell_type": "code",
   "execution_count": 51,
   "id": "c0d780a9",
   "metadata": {},
   "outputs": [
    {
     "data": {
      "text/plain": [
       "0.45"
      ]
     },
     "execution_count": 51,
     "metadata": {},
     "output_type": "execute_result"
    }
   ],
   "source": [
    "len([m for m in match_data if m[3]=='BLACK']) / len(match_data)"
   ]
  },
  {
   "cell_type": "code",
   "execution_count": 8,
   "id": "b276d5de",
   "metadata": {},
   "outputs": [
    {
     "name": "stdout",
     "output_type": "stream",
     "text": [
      "(1418, 'UCT', 'UCT', 'WHITE', 22, 42, 1.0, 100, 2.0, 1, 100, 0.0, '○ ○ ○ ○ ○ ○ ● ● ○ ○ ○ ○ ○ ● ● ● ○ ○ ○ ○ ○ ● ● ● ○ ● ○ ○ ○ ○ ● ● ○ ● ○ ● ● ○ ● ● ○ ○ ○ ● ○ ● ● ○ ○ ○ ● ○ ○ ● ● ○ ○ ○ ○ ○ ○ ○ ○ ○')\n"
     ]
    },
    {
     "data": {
      "text/plain": [
       "0.4636363636363636"
      ]
     },
     "execution_count": 8,
     "metadata": {},
     "output_type": "execute_result"
    }
   ],
   "source": [
    "sql = 'select *  from reversi where id>=1418 and id <= 1457 or id>=1478 and id <= 1487 or id>=1608 and id <= 1637  or id>=1698 and id <= 1727'\n",
    "mycursor.execute(sql)\n",
    "match_data = mycursor.fetchall()\n",
    "print(match_data[0])\n",
    "len([m for m in match_data if m[3]=='BLACK']) / len(match_data)"
   ]
  },
  {
   "cell_type": "code",
   "execution_count": 9,
   "id": "740478b3",
   "metadata": {},
   "outputs": [
    {
     "name": "stdout",
     "output_type": "stream",
     "text": [
      "(1498, 'UCT', 'UCT', 'WHITE', 24, 40, 1.0, 100, 2.0, 3, 100, 2.0, '● ● ● ○ ○ ○ ○ ○ ● ● ● ● ○ ○ ○ ○ ● ○ ● ● ○ ○ ○ ○ ● ○ ● ○ ○ ● ○ ○ ● ● ● ● ○ ● ○ ○ ● ○ ● ○ ● ○ ○ ○ ● ○ ○ ○ ○ ● ○ ○ ● ○ ○ ○ ○ ○ ○ ○')\n"
     ]
    },
    {
     "data": {
      "text/plain": [
       "0.5636363636363636"
      ]
     },
     "execution_count": 9,
     "metadata": {},
     "output_type": "execute_result"
    }
   ],
   "source": [
    "sql = 'select *  from reversi where id>=1498 and id <= 1537  or id>=1598 and id <= 1607 or id>=1668 and id <= 1697  or id>=1758 and id <= 1787'\n",
    "mycursor.execute(sql)\n",
    "match_data = mycursor.fetchall()\n",
    "print(match_data[0])\n",
    "len([m for m in match_data if m[3]=='BLACK']) / len(match_data)"
   ]
  },
  {
   "cell_type": "code",
   "execution_count": 10,
   "id": "9612cf25",
   "metadata": {},
   "outputs": [
    {
     "name": "stdout",
     "output_type": "stream",
     "text": [
      "(1458, 'UCT', 'UCT', 'BLACK', 39, 25, 1.0, 100, 2.0, 1, 100, 20.0, '○ ● ● ● ● ● ● ● ○ ○ ● ○ ● ○ ● ● ○ ● ○ ● ○ ○ ● ● ○ ● ● ○ ○ ○ ● ● ○ ● ○ ● ● ○ ● ● ○ ● ● ○ ○ ○ ● ● ○ ● ○ ○ ○ ○ ● ● ● ● ● ● ● ● ● ●')\n"
     ]
    },
    {
     "data": {
      "text/plain": [
       "0.4909090909090909"
      ]
     },
     "execution_count": 10,
     "metadata": {},
     "output_type": "execute_result"
    }
   ],
   "source": [
    "sql = 'select *  from reversi where id>=1458 and id <= 1497  or id>=1588 and id <= 1597 or id>=1638 and id <= 1667  or id>=1728 and id <= 1757'\n",
    "mycursor.execute(sql)\n",
    "match_data = mycursor.fetchall()\n",
    "print(match_data[0])\n",
    "len([m for m in match_data if m[3]=='BLACK']) / len(match_data)"
   ]
  },
  {
   "cell_type": "code",
   "execution_count": 58,
   "id": "7eac5a2c",
   "metadata": {},
   "outputs": [
    {
     "name": "stdout",
     "output_type": "stream",
     "text": [
      "(1538, 'UCT', 'UCT', 'WHITE', 14, 50, 1.0, 100, 2.0, 1, 100, 2.0, '● ○ ○ ○ ○ ○ ○ ○ ● ○ ○ ○ ○ ○ ○ ○ ● ● ○ ● ○ ○ ○ ○ ● ● ○ ○ ○ ○ ○ ○ ● ● ○ ○ ○ ○ ○ ○ ● ● ○ ○ ● ○ ○ ○ ● ○ ○ ● ○ ○ ○ ○ ○ ○ ○ ○ ○ ○ ○ ○')\n"
     ]
    },
    {
     "data": {
      "text/plain": [
       "0.4"
      ]
     },
     "execution_count": 58,
     "metadata": {},
     "output_type": "execute_result"
    }
   ],
   "source": [
    "sql = 'select *  from reversi where id>=1538 and id <= 1577'\n",
    "mycursor.execute(sql)\n",
    "match_data = mycursor.fetchall()\n",
    "print(match_data[0])\n",
    "len([m for m in match_data if m[3]=='BLACK']) / len(match_data)"
   ]
  },
  {
   "cell_type": "code",
   "execution_count": 16,
   "id": "d4c007e4",
   "metadata": {},
   "outputs": [],
   "source": [
    "sql = 'select *  from reversi where id>=1155 and id <= 1254'\n",
    "mycursor.execute(sql)\n",
    "match_data = mycursor.fetchall()"
   ]
  },
  {
   "cell_type": "code",
   "execution_count": 17,
   "id": "0bb2bca3",
   "metadata": {},
   "outputs": [
    {
     "data": {
      "text/plain": [
       "42"
      ]
     },
     "execution_count": 17,
     "metadata": {},
     "output_type": "execute_result"
    }
   ],
   "source": [
    "len([m for m in match_data if m[3]=='BLACK'])"
   ]
  },
  {
   "cell_type": "code",
   "execution_count": null,
   "id": "4df886d4",
   "metadata": {},
   "outputs": [],
   "source": []
  }
 ],
 "metadata": {
  "kernelspec": {
   "display_name": "Python 3 (ipykernel)",
   "language": "python",
   "name": "python3"
  },
  "language_info": {
   "codemirror_mode": {
    "name": "ipython",
    "version": 3
   },
   "file_extension": ".py",
   "mimetype": "text/x-python",
   "name": "python",
   "nbconvert_exporter": "python",
   "pygments_lexer": "ipython3",
   "version": "3.10.6"
  }
 },
 "nbformat": 4,
 "nbformat_minor": 5
}
