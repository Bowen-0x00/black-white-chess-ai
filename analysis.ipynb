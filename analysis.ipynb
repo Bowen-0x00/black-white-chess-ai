{
 "cells": [
  {
   "cell_type": "code",
   "execution_count": 19,
   "id": "f9bb7972",
   "metadata": {},
   "outputs": [],
   "source": [
    "import mysql.connector\n",
    "import numpy as np"
   ]
  },
  {
   "cell_type": "code",
   "execution_count": 20,
   "id": "ef5b4baf",
   "metadata": {},
   "outputs": [],
   "source": [
    "mydb = mysql.connector.connect(\n",
    "    host=\"127.0.0.1\",\n",
    "    user=\"root\",\n",
    "    passwd=\"123456\",\n",
    "    database=\"reversi\"\n",
    ")\n",
    "mycursor = mydb.cursor()"
   ]
  },
  {
   "cell_type": "code",
   "execution_count": 21,
   "id": "fa337b19",
   "metadata": {},
   "outputs": [],
   "source": [
    "sql = 'select *  from reversi where id>=2 and id <= 101'\n",
    "mycursor.execute(sql)\n",
    "match_data = mycursor.fetchall()"
   ]
  },
  {
   "cell_type": "code",
   "execution_count": 22,
   "id": "068f4f72",
   "metadata": {},
   "outputs": [
    {
     "data": {
      "text/plain": [
       "(2,\n",
       " 'UCT',\n",
       " 'GREEDY_MINPOS',\n",
       " 'WHITE',\n",
       " 24,\n",
       " 40,\n",
       " 1.0,\n",
       " 100,\n",
       " 2.0,\n",
       " 0,\n",
       " 0,\n",
       " 0.0,\n",
       " '○ ○ ○ ○ ● ● ● ● ○ ○ ○ ○ ○ ○ ○ ● ○ ○ ○ ● ● ● ● ● ○ ● ○ ○ ● ● ○ ● ○ ● ○ ● ○ ● ○ ○ ○ ○ ● ● ● ● ○ ○ ○ ○ ● ● ○ ○ ○ ○ ○ ○ ● ○ ○ ○ ○ ○')"
      ]
     },
     "execution_count": 22,
     "metadata": {},
     "output_type": "execute_result"
    }
   ],
   "source": [
    "match_data[0]"
   ]
  },
  {
   "cell_type": "code",
   "execution_count": 24,
   "id": "5b032f84",
   "metadata": {},
   "outputs": [
    {
     "name": "stdout",
     "output_type": "stream",
     "text": [
      "['○', '○', '○', '○', '●', '●', '●', '●']\n",
      "['○', '○', '○', '○', '○', '○', '○', '●']\n",
      "['○', '○', '○', '●', '●', '●', '●', '●']\n",
      "['○', '●', '○', '○', '●', '●', '○', '●']\n",
      "['○', '●', '○', '●', '○', '●', '○', '○']\n",
      "['○', '○', '●', '●', '●', '●', '○', '○']\n",
      "['○', '○', '●', '●', '○', '○', '○', '○']\n",
      "['○', '○', '●', '○', '○', '○', '○', '○']\n"
     ]
    }
   ],
   "source": [
    "for i in range(8):\n",
    "    print(match_data[0][-1].split(' ')[i*8:i*8+8])"
   ]
  },
  {
   "cell_type": "code",
   "execution_count": 26,
   "id": "5a3ac507",
   "metadata": {},
   "outputs": [
    {
     "data": {
      "text/plain": [
       "0.88"
      ]
     },
     "execution_count": 26,
     "metadata": {},
     "output_type": "execute_result"
    }
   ],
   "source": [
    "len([m for m in match_data if m[3]=='BLACK']) / len(match_data)"
   ]
  },
  {
   "cell_type": "code",
   "execution_count": 31,
   "id": "52e92000",
   "metadata": {},
   "outputs": [],
   "source": [
    "sql = 'select *  from reversi where id>=1275 and id <= 1307'\n",
    "mycursor.execute(sql)\n",
    "match_data = mycursor.fetchall()"
   ]
  },
  {
   "cell_type": "code",
   "execution_count": 32,
   "id": "60a02108",
   "metadata": {},
   "outputs": [
    {
     "data": {
      "text/plain": [
       "(1275,\n",
       " 'UCT',\n",
       " 'UCT_EXPERT',\n",
       " 'WHITE',\n",
       " 21,\n",
       " 43,\n",
       " 1.0,\n",
       " 100,\n",
       " 2.0,\n",
       " 1,\n",
       " 100,\n",
       " 2.0,\n",
       " '● ○ ○ ○ ○ ○ ○ ○ ○ ○ ○ ○ ○ ○ ○ ○ ○ ○ ● ● ○ ○ ○ ○ ○ ● ● ○ ○ ○ ○ ○ ○ ● ○ ○ ● ○ ○ ○ ○ ● ○ ○ ○ ● ○ ○ ○ ● ● ● ○ ○ ● ● ○ ● ● ● ● ● ● ●')"
      ]
     },
     "execution_count": 32,
     "metadata": {},
     "output_type": "execute_result"
    }
   ],
   "source": [
    "match_data[0]"
   ]
  },
  {
   "cell_type": "code",
   "execution_count": 33,
   "id": "3c37a464",
   "metadata": {},
   "outputs": [
    {
     "data": {
      "text/plain": [
       "0.8181818181818182"
      ]
     },
     "execution_count": 33,
     "metadata": {},
     "output_type": "execute_result"
    }
   ],
   "source": [
    "len([m for m in match_data if m[3]=='WHITE']) / len(match_data)"
   ]
  },
  {
   "cell_type": "code",
   "execution_count": 34,
   "id": "176d3814",
   "metadata": {},
   "outputs": [],
   "source": [
    "sql = 'select *  from reversi where id>=1308 and id <= 1337'\n",
    "mycursor.execute(sql)\n",
    "match_data = mycursor.fetchall()"
   ]
  },
  {
   "cell_type": "code",
   "execution_count": 35,
   "id": "b2ff83f8",
   "metadata": {},
   "outputs": [
    {
     "data": {
      "text/plain": [
       "(1308,\n",
       " 'GREEDY_MAXSCORE',\n",
       " 'UCT_EXPERT',\n",
       " 'WHITE',\n",
       " 11,\n",
       " 53,\n",
       " 1.0,\n",
       " 100,\n",
       " 2.0,\n",
       " 1,\n",
       " 100,\n",
       " 2.0,\n",
       " '○ ○ ○ ○ ○ ○ ● ○ ○ ○ ● ○ ○ ○ ● ● ○ ○ ● ● ● ○ ○ ● ○ ○ ○ ● ● ○ ○ ○ ○ ○ ○ ○ ○ ○ ○ ○ ○ ○ ○ ○ ○ ○ ○ ○ ○ ○ ○ ● ○ ○ ○ ○ ○ ○ ○ ○ ○ ○ ○ ○')"
      ]
     },
     "execution_count": 35,
     "metadata": {},
     "output_type": "execute_result"
    }
   ],
   "source": [
    "match_data[0]"
   ]
  },
  {
   "cell_type": "code",
   "execution_count": 36,
   "id": "d15cf873",
   "metadata": {},
   "outputs": [
    {
     "data": {
      "text/plain": [
       "0.8666666666666667"
      ]
     },
     "execution_count": 36,
     "metadata": {},
     "output_type": "execute_result"
    }
   ],
   "source": [
    "len([m for m in match_data if m[3]=='WHITE']) / len(match_data)"
   ]
  },
  {
   "cell_type": "code",
   "execution_count": 12,
   "id": "2e664581",
   "metadata": {},
   "outputs": [],
   "source": [
    "sql = 'select *  from reversi where id>=955 and id <= 1054'\n",
    "mycursor.execute(sql)\n",
    "match_data = mycursor.fetchall()"
   ]
  },
  {
   "cell_type": "code",
   "execution_count": 13,
   "id": "c0d780a9",
   "metadata": {},
   "outputs": [
    {
     "data": {
      "text/plain": [
       "24"
      ]
     },
     "execution_count": 13,
     "metadata": {},
     "output_type": "execute_result"
    }
   ],
   "source": [
    "len([m for m in match_data if m[3]=='BLACK'])"
   ]
  },
  {
   "cell_type": "code",
   "execution_count": 14,
   "id": "b276d5de",
   "metadata": {},
   "outputs": [],
   "source": [
    "sql = 'select *  from reversi where id>=1055 and id <= 1154'\n",
    "mycursor.execute(sql)\n",
    "match_data = mycursor.fetchall()"
   ]
  },
  {
   "cell_type": "code",
   "execution_count": 15,
   "id": "7eac5a2c",
   "metadata": {},
   "outputs": [
    {
     "data": {
      "text/plain": [
       "44"
      ]
     },
     "execution_count": 15,
     "metadata": {},
     "output_type": "execute_result"
    }
   ],
   "source": [
    "len([m for m in match_data if m[3]=='BLACK'])"
   ]
  },
  {
   "cell_type": "code",
   "execution_count": 16,
   "id": "d4c007e4",
   "metadata": {},
   "outputs": [],
   "source": [
    "sql = 'select *  from reversi where id>=1155 and id <= 1254'\n",
    "mycursor.execute(sql)\n",
    "match_data = mycursor.fetchall()"
   ]
  },
  {
   "cell_type": "code",
   "execution_count": 17,
   "id": "0bb2bca3",
   "metadata": {},
   "outputs": [
    {
     "data": {
      "text/plain": [
       "42"
      ]
     },
     "execution_count": 17,
     "metadata": {},
     "output_type": "execute_result"
    }
   ],
   "source": [
    "len([m for m in match_data if m[3]=='BLACK'])"
   ]
  },
  {
   "cell_type": "code",
   "execution_count": null,
   "id": "4df886d4",
   "metadata": {},
   "outputs": [],
   "source": []
  }
 ],
 "metadata": {
  "kernelspec": {
   "display_name": "Python 3 (ipykernel)",
   "language": "python",
   "name": "python3"
  },
  "language_info": {
   "codemirror_mode": {
    "name": "ipython",
    "version": 3
   },
   "file_extension": ".py",
   "mimetype": "text/x-python",
   "name": "python",
   "nbconvert_exporter": "python",
   "pygments_lexer": "ipython3",
   "version": "3.10.6"
  }
 },
 "nbformat": 4,
 "nbformat_minor": 5
}
